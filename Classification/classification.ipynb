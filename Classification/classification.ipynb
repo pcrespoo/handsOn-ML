{
 "cells": [
  {
   "cell_type": "markdown",
   "source": "### MNIST data set",
   "metadata": {
    "cell_id": "3ab25c7f630b47ae9b668d64833de147",
    "tags": [],
    "deepnote_cell_type": "markdown",
    "deepnote_cell_height": 61.600006103515625
   }
  },
  {
   "cell_type": "code",
   "metadata": {
    "cell_id": "740cff89a8d64842b2892cfd5679f8ad",
    "tags": [],
    "deepnote_to_be_reexecuted": false,
    "source_hash": "9e2877b1",
    "execution_start": 1648672578238,
    "execution_millis": 74256,
    "is_output_hidden": true,
    "deepnote_cell_type": "code",
    "deepnote_cell_height": 147.1999969482422
   },
   "source": "from sklearn.datasets import fetch_openml\nmnist = fetch_openml('mnist_784',version=1)\nmnist.keys()",
   "execution_count": null,
   "outputs": [
    {
     "output_type": "error",
     "ename": "KeyboardInterrupt",
     "evalue": "",
     "traceback": [
      "\u001b[0;31m---------------------------------------------------------------------------\u001b[0m",
      "\u001b[0;31mKeyboardInterrupt\u001b[0m                         Traceback (most recent call last)",
      "\u001b[0;32m<ipython-input-1-31e3ca6b1da3>\u001b[0m in \u001b[0;36m<module>\u001b[0;34m\u001b[0m\n\u001b[1;32m      1\u001b[0m \u001b[0;32mfrom\u001b[0m \u001b[0msklearn\u001b[0m\u001b[0;34m.\u001b[0m\u001b[0mdatasets\u001b[0m \u001b[0;32mimport\u001b[0m \u001b[0mfetch_openml\u001b[0m\u001b[0;34m\u001b[0m\u001b[0;34m\u001b[0m\u001b[0m\n\u001b[0;32m----> 2\u001b[0;31m \u001b[0mmnist\u001b[0m \u001b[0;34m=\u001b[0m \u001b[0mfetch_openml\u001b[0m\u001b[0;34m(\u001b[0m\u001b[0;34m'mnist_784'\u001b[0m\u001b[0;34m,\u001b[0m\u001b[0mversion\u001b[0m\u001b[0;34m=\u001b[0m\u001b[0;36m1\u001b[0m\u001b[0;34m)\u001b[0m\u001b[0;34m\u001b[0m\u001b[0;34m\u001b[0m\u001b[0m\n\u001b[0m\u001b[1;32m      3\u001b[0m \u001b[0mmnist\u001b[0m\u001b[0;34m.\u001b[0m\u001b[0mkeys\u001b[0m\u001b[0;34m(\u001b[0m\u001b[0;34m)\u001b[0m\u001b[0;34m\u001b[0m\u001b[0;34m\u001b[0m\u001b[0m\n",
      "\u001b[0;32m/shared-libs/python3.7/py/lib/python3.7/site-packages/sklearn/datasets/_openml.py\u001b[0m in \u001b[0;36mfetch_openml\u001b[0;34m(name, version, data_id, data_home, target_column, cache, return_X_y, as_frame)\u001b[0m\n\u001b[1;32m    965\u001b[0m         \u001b[0mtarget_columns\u001b[0m\u001b[0;34m=\u001b[0m\u001b[0mtarget_columns\u001b[0m\u001b[0;34m,\u001b[0m\u001b[0;34m\u001b[0m\u001b[0;34m\u001b[0m\u001b[0m\n\u001b[1;32m    966\u001b[0m         \u001b[0mdata_columns\u001b[0m\u001b[0;34m=\u001b[0m\u001b[0mdata_columns\u001b[0m\u001b[0;34m,\u001b[0m\u001b[0;34m\u001b[0m\u001b[0;34m\u001b[0m\u001b[0m\n\u001b[0;32m--> 967\u001b[0;31m         \u001b[0mmd5_checksum\u001b[0m\u001b[0;34m=\u001b[0m\u001b[0mdata_description\u001b[0m\u001b[0;34m[\u001b[0m\u001b[0;34m\"md5_checksum\"\u001b[0m\u001b[0;34m]\u001b[0m\u001b[0;34m,\u001b[0m\u001b[0;34m\u001b[0m\u001b[0;34m\u001b[0m\u001b[0m\n\u001b[0m\u001b[1;32m    968\u001b[0m     )\n\u001b[1;32m    969\u001b[0m \u001b[0;34m\u001b[0m\u001b[0m\n",
      "\u001b[0;32m/shared-libs/python3.7/py/lib/python3.7/site-packages/sklearn/datasets/_openml.py\u001b[0m in \u001b[0;36m_download_data_to_bunch\u001b[0;34m(url, sparse, data_home, as_frame, features_list, data_columns, target_columns, shape, md5_checksum)\u001b[0m\n\u001b[1;32m    659\u001b[0m         \u001b[0mencode_nominal\u001b[0m\u001b[0;34m=\u001b[0m\u001b[0;32mnot\u001b[0m \u001b[0mas_frame\u001b[0m\u001b[0;34m,\u001b[0m\u001b[0;34m\u001b[0m\u001b[0;34m\u001b[0m\u001b[0m\n\u001b[1;32m    660\u001b[0m         \u001b[0mparse_arff\u001b[0m\u001b[0;34m=\u001b[0m\u001b[0mparse_arff\u001b[0m\u001b[0;34m,\u001b[0m\u001b[0;34m\u001b[0m\u001b[0;34m\u001b[0m\u001b[0m\n\u001b[0;32m--> 661\u001b[0;31m         \u001b[0mmd5_checksum\u001b[0m\u001b[0;34m=\u001b[0m\u001b[0mmd5_checksum\u001b[0m\u001b[0;34m,\u001b[0m\u001b[0;34m\u001b[0m\u001b[0;34m\u001b[0m\u001b[0m\n\u001b[0m\u001b[1;32m    662\u001b[0m     )\n\u001b[1;32m    663\u001b[0m     \u001b[0mX\u001b[0m\u001b[0;34m,\u001b[0m \u001b[0my\u001b[0m\u001b[0;34m,\u001b[0m \u001b[0mframe\u001b[0m\u001b[0;34m,\u001b[0m \u001b[0mnominal_attributes\u001b[0m \u001b[0;34m=\u001b[0m \u001b[0mpostprocess\u001b[0m\u001b[0;34m(\u001b[0m\u001b[0;34m*\u001b[0m\u001b[0mout\u001b[0m\u001b[0;34m)\u001b[0m\u001b[0;34m\u001b[0m\u001b[0;34m\u001b[0m\u001b[0m\n",
      "\u001b[0;32m/shared-libs/python3.7/py/lib/python3.7/site-packages/sklearn/datasets/_openml.py\u001b[0m in \u001b[0;36mwrapper\u001b[0;34m(*args, **kw)\u001b[0m\n\u001b[1;32m     59\u001b[0m                 \u001b[0;32mreturn\u001b[0m \u001b[0mf\u001b[0m\u001b[0;34m(\u001b[0m\u001b[0;34m*\u001b[0m\u001b[0margs\u001b[0m\u001b[0;34m,\u001b[0m \u001b[0;34m**\u001b[0m\u001b[0mkw\u001b[0m\u001b[0;34m)\u001b[0m\u001b[0;34m\u001b[0m\u001b[0;34m\u001b[0m\u001b[0m\n\u001b[1;32m     60\u001b[0m             \u001b[0;32mtry\u001b[0m\u001b[0;34m:\u001b[0m\u001b[0;34m\u001b[0m\u001b[0;34m\u001b[0m\u001b[0m\n\u001b[0;32m---> 61\u001b[0;31m                 \u001b[0;32mreturn\u001b[0m \u001b[0mf\u001b[0m\u001b[0;34m(\u001b[0m\u001b[0;34m*\u001b[0m\u001b[0margs\u001b[0m\u001b[0;34m,\u001b[0m \u001b[0;34m**\u001b[0m\u001b[0mkw\u001b[0m\u001b[0;34m)\u001b[0m\u001b[0;34m\u001b[0m\u001b[0;34m\u001b[0m\u001b[0m\n\u001b[0m\u001b[1;32m     62\u001b[0m             \u001b[0;32mexcept\u001b[0m \u001b[0mHTTPError\u001b[0m\u001b[0;34m:\u001b[0m\u001b[0;34m\u001b[0m\u001b[0;34m\u001b[0m\u001b[0m\n\u001b[1;32m     63\u001b[0m                 \u001b[0;32mraise\u001b[0m\u001b[0;34m\u001b[0m\u001b[0;34m\u001b[0m\u001b[0m\n",
      "\u001b[0;32m/shared-libs/python3.7/py/lib/python3.7/site-packages/sklearn/datasets/_openml.py\u001b[0m in \u001b[0;36m_load_arff_response\u001b[0;34m(url, data_home, return_type, encode_nominal, parse_arff, md5_checksum)\u001b[0m\n\u001b[1;32m    527\u001b[0m         )\n\u001b[1;32m    528\u001b[0m \u001b[0;34m\u001b[0m\u001b[0m\n\u001b[0;32m--> 529\u001b[0;31m         \u001b[0mparsed_arff\u001b[0m \u001b[0;34m=\u001b[0m \u001b[0mparse_arff\u001b[0m\u001b[0;34m(\u001b[0m\u001b[0marff\u001b[0m\u001b[0;34m)\u001b[0m\u001b[0;34m\u001b[0m\u001b[0;34m\u001b[0m\u001b[0m\n\u001b[0m\u001b[1;32m    530\u001b[0m \u001b[0;34m\u001b[0m\u001b[0m\n\u001b[1;32m    531\u001b[0m         \u001b[0;31m# consume remaining stream, if early exited\u001b[0m\u001b[0;34m\u001b[0m\u001b[0;34m\u001b[0m\u001b[0;34m\u001b[0m\u001b[0m\n",
      "\u001b[0;32m/shared-libs/python3.7/py/lib/python3.7/site-packages/sklearn/datasets/_openml.py\u001b[0m in \u001b[0;36m_convert_arff_data_dataframe\u001b[0;34m(arff, columns, features_dict)\u001b[0m\n\u001b[1;32m    360\u001b[0m     \u001b[0mdfs\u001b[0m\u001b[0;34m.\u001b[0m\u001b[0mappend\u001b[0m\u001b[0;34m(\u001b[0m\u001b[0mfirst_df\u001b[0m\u001b[0;34m[\u001b[0m\u001b[0mcolumns_to_keep\u001b[0m\u001b[0;34m]\u001b[0m\u001b[0;34m)\u001b[0m\u001b[0;34m\u001b[0m\u001b[0;34m\u001b[0m\u001b[0m\n\u001b[1;32m    361\u001b[0m     \u001b[0;32mfor\u001b[0m \u001b[0mdata\u001b[0m \u001b[0;32min\u001b[0m \u001b[0m_chunk_generator\u001b[0m\u001b[0;34m(\u001b[0m\u001b[0marff\u001b[0m\u001b[0;34m[\u001b[0m\u001b[0;34m\"data\"\u001b[0m\u001b[0;34m]\u001b[0m\u001b[0;34m,\u001b[0m \u001b[0mchunksize\u001b[0m\u001b[0;34m)\u001b[0m\u001b[0;34m:\u001b[0m\u001b[0;34m\u001b[0m\u001b[0;34m\u001b[0m\u001b[0m\n\u001b[0;32m--> 362\u001b[0;31m         \u001b[0mdfs\u001b[0m\u001b[0;34m.\u001b[0m\u001b[0mappend\u001b[0m\u001b[0;34m(\u001b[0m\u001b[0mpd\u001b[0m\u001b[0;34m.\u001b[0m\u001b[0mDataFrame\u001b[0m\u001b[0;34m(\u001b[0m\u001b[0mdata\u001b[0m\u001b[0;34m,\u001b[0m \u001b[0mcolumns\u001b[0m\u001b[0;34m=\u001b[0m\u001b[0marff_columns\u001b[0m\u001b[0;34m)\u001b[0m\u001b[0;34m[\u001b[0m\u001b[0mcolumns_to_keep\u001b[0m\u001b[0;34m]\u001b[0m\u001b[0;34m)\u001b[0m\u001b[0;34m\u001b[0m\u001b[0;34m\u001b[0m\u001b[0m\n\u001b[0m\u001b[1;32m    363\u001b[0m     \u001b[0mdf\u001b[0m \u001b[0;34m=\u001b[0m \u001b[0mpd\u001b[0m\u001b[0;34m.\u001b[0m\u001b[0mconcat\u001b[0m\u001b[0;34m(\u001b[0m\u001b[0mdfs\u001b[0m\u001b[0;34m,\u001b[0m \u001b[0mignore_index\u001b[0m\u001b[0;34m=\u001b[0m\u001b[0;32mTrue\u001b[0m\u001b[0;34m)\u001b[0m\u001b[0;34m\u001b[0m\u001b[0;34m\u001b[0m\u001b[0m\n\u001b[1;32m    364\u001b[0m \u001b[0;34m\u001b[0m\u001b[0m\n",
      "\u001b[0;32m/shared-libs/python3.7/py/lib/python3.7/site-packages/pandas/core/frame.py\u001b[0m in \u001b[0;36m__init__\u001b[0;34m(self, data, index, columns, dtype, copy)\u001b[0m\n\u001b[1;32m    568\u001b[0m                     \u001b[0;32mif\u001b[0m \u001b[0mis_named_tuple\u001b[0m\u001b[0;34m(\u001b[0m\u001b[0mdata\u001b[0m\u001b[0;34m[\u001b[0m\u001b[0;36m0\u001b[0m\u001b[0;34m]\u001b[0m\u001b[0;34m)\u001b[0m \u001b[0;32mand\u001b[0m \u001b[0mcolumns\u001b[0m \u001b[0;32mis\u001b[0m \u001b[0;32mNone\u001b[0m\u001b[0;34m:\u001b[0m\u001b[0;34m\u001b[0m\u001b[0;34m\u001b[0m\u001b[0m\n\u001b[1;32m    569\u001b[0m                         \u001b[0mcolumns\u001b[0m \u001b[0;34m=\u001b[0m \u001b[0mdata\u001b[0m\u001b[0;34m[\u001b[0m\u001b[0;36m0\u001b[0m\u001b[0;34m]\u001b[0m\u001b[0;34m.\u001b[0m\u001b[0m_fields\u001b[0m\u001b[0;34m\u001b[0m\u001b[0;34m\u001b[0m\u001b[0m\n\u001b[0;32m--> 570\u001b[0;31m                     \u001b[0marrays\u001b[0m\u001b[0;34m,\u001b[0m \u001b[0mcolumns\u001b[0m \u001b[0;34m=\u001b[0m \u001b[0mto_arrays\u001b[0m\u001b[0;34m(\u001b[0m\u001b[0mdata\u001b[0m\u001b[0;34m,\u001b[0m \u001b[0mcolumns\u001b[0m\u001b[0;34m,\u001b[0m \u001b[0mdtype\u001b[0m\u001b[0;34m=\u001b[0m\u001b[0mdtype\u001b[0m\u001b[0;34m)\u001b[0m\u001b[0;34m\u001b[0m\u001b[0;34m\u001b[0m\u001b[0m\n\u001b[0m\u001b[1;32m    571\u001b[0m                     \u001b[0mcolumns\u001b[0m \u001b[0;34m=\u001b[0m \u001b[0mensure_index\u001b[0m\u001b[0;34m(\u001b[0m\u001b[0mcolumns\u001b[0m\u001b[0;34m)\u001b[0m\u001b[0;34m\u001b[0m\u001b[0;34m\u001b[0m\u001b[0m\n\u001b[1;32m    572\u001b[0m \u001b[0;34m\u001b[0m\u001b[0m\n",
      "\u001b[0;32m/shared-libs/python3.7/py/lib/python3.7/site-packages/pandas/core/internals/construction.py\u001b[0m in \u001b[0;36mto_arrays\u001b[0;34m(data, columns, coerce_float, dtype)\u001b[0m\n\u001b[1;32m    526\u001b[0m         \u001b[0;32mreturn\u001b[0m \u001b[0;34m[\u001b[0m\u001b[0;34m]\u001b[0m\u001b[0;34m,\u001b[0m \u001b[0;34m[\u001b[0m\u001b[0;34m]\u001b[0m  \u001b[0;31m# columns if columns is not None else []\u001b[0m\u001b[0;34m\u001b[0m\u001b[0;34m\u001b[0m\u001b[0m\n\u001b[1;32m    527\u001b[0m     \u001b[0;32mif\u001b[0m \u001b[0misinstance\u001b[0m\u001b[0;34m(\u001b[0m\u001b[0mdata\u001b[0m\u001b[0;34m[\u001b[0m\u001b[0;36m0\u001b[0m\u001b[0;34m]\u001b[0m\u001b[0;34m,\u001b[0m \u001b[0;34m(\u001b[0m\u001b[0mlist\u001b[0m\u001b[0;34m,\u001b[0m \u001b[0mtuple\u001b[0m\u001b[0;34m)\u001b[0m\u001b[0;34m)\u001b[0m\u001b[0;34m:\u001b[0m\u001b[0;34m\u001b[0m\u001b[0;34m\u001b[0m\u001b[0m\n\u001b[0;32m--> 528\u001b[0;31m         \u001b[0;32mreturn\u001b[0m \u001b[0m_list_to_arrays\u001b[0m\u001b[0;34m(\u001b[0m\u001b[0mdata\u001b[0m\u001b[0;34m,\u001b[0m \u001b[0mcolumns\u001b[0m\u001b[0;34m,\u001b[0m \u001b[0mcoerce_float\u001b[0m\u001b[0;34m=\u001b[0m\u001b[0mcoerce_float\u001b[0m\u001b[0;34m,\u001b[0m \u001b[0mdtype\u001b[0m\u001b[0;34m=\u001b[0m\u001b[0mdtype\u001b[0m\u001b[0;34m)\u001b[0m\u001b[0;34m\u001b[0m\u001b[0;34m\u001b[0m\u001b[0m\n\u001b[0m\u001b[1;32m    529\u001b[0m     \u001b[0;32melif\u001b[0m \u001b[0misinstance\u001b[0m\u001b[0;34m(\u001b[0m\u001b[0mdata\u001b[0m\u001b[0;34m[\u001b[0m\u001b[0;36m0\u001b[0m\u001b[0;34m]\u001b[0m\u001b[0;34m,\u001b[0m \u001b[0mabc\u001b[0m\u001b[0;34m.\u001b[0m\u001b[0mMapping\u001b[0m\u001b[0;34m)\u001b[0m\u001b[0;34m:\u001b[0m\u001b[0;34m\u001b[0m\u001b[0;34m\u001b[0m\u001b[0m\n\u001b[1;32m    530\u001b[0m         return _list_of_dict_to_arrays(\n",
      "\u001b[0;32m/shared-libs/python3.7/py/lib/python3.7/site-packages/pandas/core/internals/construction.py\u001b[0m in \u001b[0;36m_list_to_arrays\u001b[0;34m(data, columns, coerce_float, dtype)\u001b[0m\n\u001b[1;32m    567\u001b[0m     \u001b[0;32mtry\u001b[0m\u001b[0;34m:\u001b[0m\u001b[0;34m\u001b[0m\u001b[0;34m\u001b[0m\u001b[0m\n\u001b[1;32m    568\u001b[0m         \u001b[0mcolumns\u001b[0m \u001b[0;34m=\u001b[0m \u001b[0m_validate_or_indexify_columns\u001b[0m\u001b[0;34m(\u001b[0m\u001b[0mcontent\u001b[0m\u001b[0;34m,\u001b[0m \u001b[0mcolumns\u001b[0m\u001b[0;34m)\u001b[0m\u001b[0;34m\u001b[0m\u001b[0;34m\u001b[0m\u001b[0m\n\u001b[0;32m--> 569\u001b[0;31m         \u001b[0mresult\u001b[0m \u001b[0;34m=\u001b[0m \u001b[0m_convert_object_array\u001b[0m\u001b[0;34m(\u001b[0m\u001b[0mcontent\u001b[0m\u001b[0;34m,\u001b[0m \u001b[0mdtype\u001b[0m\u001b[0;34m=\u001b[0m\u001b[0mdtype\u001b[0m\u001b[0;34m,\u001b[0m \u001b[0mcoerce_float\u001b[0m\u001b[0;34m=\u001b[0m\u001b[0mcoerce_float\u001b[0m\u001b[0;34m)\u001b[0m\u001b[0;34m\u001b[0m\u001b[0;34m\u001b[0m\u001b[0m\n\u001b[0m\u001b[1;32m    570\u001b[0m     \u001b[0;32mexcept\u001b[0m \u001b[0mAssertionError\u001b[0m \u001b[0;32mas\u001b[0m \u001b[0me\u001b[0m\u001b[0;34m:\u001b[0m\u001b[0;34m\u001b[0m\u001b[0;34m\u001b[0m\u001b[0m\n\u001b[1;32m    571\u001b[0m         \u001b[0;32mraise\u001b[0m \u001b[0mValueError\u001b[0m\u001b[0;34m(\u001b[0m\u001b[0me\u001b[0m\u001b[0;34m)\u001b[0m \u001b[0;32mfrom\u001b[0m \u001b[0me\u001b[0m\u001b[0;34m\u001b[0m\u001b[0;34m\u001b[0m\u001b[0m\n",
      "\u001b[0;32m/shared-libs/python3.7/py/lib/python3.7/site-packages/pandas/core/internals/construction.py\u001b[0m in \u001b[0;36m_convert_object_array\u001b[0;34m(content, coerce_float, dtype)\u001b[0m\n\u001b[1;32m    734\u001b[0m         \u001b[0;32mreturn\u001b[0m \u001b[0marr\u001b[0m\u001b[0;34m\u001b[0m\u001b[0;34m\u001b[0m\u001b[0m\n\u001b[1;32m    735\u001b[0m \u001b[0;34m\u001b[0m\u001b[0m\n\u001b[0;32m--> 736\u001b[0;31m     \u001b[0marrays\u001b[0m \u001b[0;34m=\u001b[0m \u001b[0;34m[\u001b[0m\u001b[0mconvert\u001b[0m\u001b[0;34m(\u001b[0m\u001b[0marr\u001b[0m\u001b[0;34m)\u001b[0m \u001b[0;32mfor\u001b[0m \u001b[0marr\u001b[0m \u001b[0;32min\u001b[0m \u001b[0mcontent\u001b[0m\u001b[0;34m]\u001b[0m\u001b[0;34m\u001b[0m\u001b[0;34m\u001b[0m\u001b[0m\n\u001b[0m\u001b[1;32m    737\u001b[0m \u001b[0;34m\u001b[0m\u001b[0m\n\u001b[1;32m    738\u001b[0m     \u001b[0;32mreturn\u001b[0m \u001b[0marrays\u001b[0m\u001b[0;34m\u001b[0m\u001b[0;34m\u001b[0m\u001b[0m\n",
      "\u001b[0;32m/shared-libs/python3.7/py/lib/python3.7/site-packages/pandas/core/internals/construction.py\u001b[0m in \u001b[0;36m<listcomp>\u001b[0;34m(.0)\u001b[0m\n\u001b[1;32m    734\u001b[0m         \u001b[0;32mreturn\u001b[0m \u001b[0marr\u001b[0m\u001b[0;34m\u001b[0m\u001b[0;34m\u001b[0m\u001b[0m\n\u001b[1;32m    735\u001b[0m \u001b[0;34m\u001b[0m\u001b[0m\n\u001b[0;32m--> 736\u001b[0;31m     \u001b[0marrays\u001b[0m \u001b[0;34m=\u001b[0m \u001b[0;34m[\u001b[0m\u001b[0mconvert\u001b[0m\u001b[0;34m(\u001b[0m\u001b[0marr\u001b[0m\u001b[0;34m)\u001b[0m \u001b[0;32mfor\u001b[0m \u001b[0marr\u001b[0m \u001b[0;32min\u001b[0m \u001b[0mcontent\u001b[0m\u001b[0;34m]\u001b[0m\u001b[0;34m\u001b[0m\u001b[0;34m\u001b[0m\u001b[0m\n\u001b[0m\u001b[1;32m    737\u001b[0m \u001b[0;34m\u001b[0m\u001b[0m\n\u001b[1;32m    738\u001b[0m     \u001b[0;32mreturn\u001b[0m \u001b[0marrays\u001b[0m\u001b[0;34m\u001b[0m\u001b[0;34m\u001b[0m\u001b[0m\n",
      "\u001b[0;32m/shared-libs/python3.7/py/lib/python3.7/site-packages/pandas/core/internals/construction.py\u001b[0m in \u001b[0;36mconvert\u001b[0;34m(arr)\u001b[0m\n\u001b[1;32m    730\u001b[0m     \u001b[0;32mdef\u001b[0m \u001b[0mconvert\u001b[0m\u001b[0;34m(\u001b[0m\u001b[0marr\u001b[0m\u001b[0;34m)\u001b[0m\u001b[0;34m:\u001b[0m\u001b[0;34m\u001b[0m\u001b[0;34m\u001b[0m\u001b[0m\n\u001b[1;32m    731\u001b[0m         \u001b[0;32mif\u001b[0m \u001b[0mdtype\u001b[0m \u001b[0;34m!=\u001b[0m \u001b[0mnp\u001b[0m\u001b[0;34m.\u001b[0m\u001b[0mdtype\u001b[0m\u001b[0;34m(\u001b[0m\u001b[0;34m\"O\"\u001b[0m\u001b[0;34m)\u001b[0m\u001b[0;34m:\u001b[0m\u001b[0;34m\u001b[0m\u001b[0;34m\u001b[0m\u001b[0m\n\u001b[0;32m--> 732\u001b[0;31m             \u001b[0marr\u001b[0m \u001b[0;34m=\u001b[0m \u001b[0mlib\u001b[0m\u001b[0;34m.\u001b[0m\u001b[0mmaybe_convert_objects\u001b[0m\u001b[0;34m(\u001b[0m\u001b[0marr\u001b[0m\u001b[0;34m,\u001b[0m \u001b[0mtry_float\u001b[0m\u001b[0;34m=\u001b[0m\u001b[0mcoerce_float\u001b[0m\u001b[0;34m)\u001b[0m\u001b[0;34m\u001b[0m\u001b[0;34m\u001b[0m\u001b[0m\n\u001b[0m\u001b[1;32m    733\u001b[0m             \u001b[0marr\u001b[0m \u001b[0;34m=\u001b[0m \u001b[0mmaybe_cast_to_datetime\u001b[0m\u001b[0;34m(\u001b[0m\u001b[0marr\u001b[0m\u001b[0;34m,\u001b[0m \u001b[0mdtype\u001b[0m\u001b[0;34m)\u001b[0m\u001b[0;34m\u001b[0m\u001b[0;34m\u001b[0m\u001b[0m\n\u001b[1;32m    734\u001b[0m         \u001b[0;32mreturn\u001b[0m \u001b[0marr\u001b[0m\u001b[0;34m\u001b[0m\u001b[0;34m\u001b[0m\u001b[0m\n",
      "\u001b[0;31mKeyboardInterrupt\u001b[0m: "
     ]
    }
   ]
  },
  {
   "cell_type": "code",
   "metadata": {
    "cell_id": "962b0b8ab07f425899e9ca95ccee7621",
    "tags": [],
    "deepnote_to_be_reexecuted": false,
    "source_hash": "6960b13b",
    "execution_start": 1648637735546,
    "execution_millis": 188,
    "deepnote_cell_type": "code",
    "deepnote_cell_height": 185.39999389648438
   },
   "source": "#define X and y\nX,y = mnist['data'], mnist['target']\nprint(X.shape)\nprint(y.shape)",
   "execution_count": null,
   "outputs": [
    {
     "name": "stdout",
     "text": "(70000, 784)\n(70000,)\n",
     "output_type": "stream"
    }
   ]
  },
  {
   "cell_type": "code",
   "metadata": {
    "cell_id": "b2d190757fb94d29862af20db6f2ecf1",
    "tags": [],
    "deepnote_to_be_reexecuted": false,
    "source_hash": "adb8d947",
    "execution_start": 1648637736722,
    "execution_millis": 2647,
    "deepnote_cell_type": "code",
    "deepnote_cell_height": 470.20001220703125,
    "deepnote_output_heights": [
     21,
     250
    ]
   },
   "source": "#show an image\nimport matplotlib.pyplot as plt\ndigit = X.loc[0].values\ndigit_image = digit.reshape(28,28) #each image is formed by 784 pixels (28x28 array)\nplt.imshow(digit_image,cmap='binary')",
   "execution_count": null,
   "outputs": [
    {
     "output_type": "execute_result",
     "execution_count": 5,
     "data": {
      "text/plain": "<matplotlib.image.AxesImage at 0x7f4e3ec52dd0>"
     },
     "metadata": {}
    },
    {
     "data": {
      "text/plain": "<Figure size 432x288 with 1 Axes>",
      "image/png": "[encoded data removed]"
     },
     "metadata": {
      "needs_background": "light",
      "image/png": {
       "width": 251,
       "height": 248
      }
     },
     "output_type": "display_data"
    }
   ]
  },
  {
   "cell_type": "code",
   "metadata": {
    "cell_id": "4163b76897c341d9905e6a99f622d927",
    "tags": [],
    "deepnote_to_be_reexecuted": false,
    "source_hash": "133c8abf",
    "execution_start": 1648637739372,
    "execution_millis": 19,
    "deepnote_cell_type": "code",
    "deepnote_cell_height": 117.39999389648438,
    "deepnote_output_heights": [
     21
    ]
   },
   "source": "y[0] == '5'",
   "execution_count": null,
   "outputs": [
    {
     "output_type": "execute_result",
     "execution_count": 6,
     "data": {
      "text/plain": "True"
     },
     "metadata": {}
    }
   ]
  },
  {
   "cell_type": "code",
   "metadata": {
    "cell_id": "bc09de99718c4e0b99bc14855517de35",
    "tags": [],
    "deepnote_to_be_reexecuted": false,
    "source_hash": "9df2b8f5",
    "execution_start": 1648637739389,
    "execution_millis": 5,
    "owner_user_id": "84d099f7-8557-4d5b-83f6-27e0e8a38761",
    "deepnote_cell_type": "code",
    "deepnote_cell_height": 98.60000610351562
   },
   "source": "#cast the label to integer\ny = y.astype('int64')",
   "execution_count": null,
   "outputs": []
  },
  {
   "cell_type": "code",
   "metadata": {
    "cell_id": "4d3e37c2d00342e0b59a1b806bd88cfc",
    "tags": [],
    "deepnote_to_be_reexecuted": false,
    "source_hash": "aad4bee8",
    "execution_start": 1648637739421,
    "execution_millis": 0,
    "deepnote_cell_type": "code",
    "deepnote_cell_height": 98.60000610351562
   },
   "source": "#train test split\nx_train, x_test, y_train, y_test = X[:60000], X[60000:], y[:60000], y[60000:]",
   "execution_count": null,
   "outputs": []
  },
  {
   "cell_type": "markdown",
   "source": "### Training a binary classifier\n- 5-detector",
   "metadata": {
    "cell_id": "ddba88c69e134ade8d883b4cf752b524",
    "tags": [],
    "deepnote_cell_type": "markdown",
    "deepnote_cell_height": 114
   }
  },
  {
   "cell_type": "code",
   "metadata": {
    "cell_id": "063fab8954194eb09e222c24f4ea51b9",
    "tags": [],
    "deepnote_to_be_reexecuted": false,
    "source_hash": "976715bc",
    "execution_start": 1648637744096,
    "execution_millis": 5,
    "deepnote_cell_type": "code",
    "deepnote_cell_height": 98.60000610351562
   },
   "source": "y_train_5 = (y_train==5) #if 5, then True, else False\ny_test_5 = (y_test==5)",
   "execution_count": null,
   "outputs": []
  },
  {
   "cell_type": "code",
   "metadata": {
    "cell_id": "17c94abdaec54be09c49af826f6e54fb",
    "tags": [],
    "deepnote_to_be_reexecuted": false,
    "source_hash": "10932d93",
    "execution_start": 1648637745188,
    "execution_millis": 18673,
    "deepnote_cell_type": "code",
    "deepnote_cell_height": 171.39999389648438,
    "deepnote_output_heights": [
     21
    ]
   },
   "source": "#define a classifier - Stochastic Gradient Descent (SGD)\nfrom sklearn.linear_model import SGDClassifier\nsgd = SGDClassifier(random_state=42)\nsgd.fit(x_train, y_train_5)",
   "execution_count": null,
   "outputs": [
    {
     "output_type": "execute_result",
     "execution_count": 10,
     "data": {
      "text/plain": "SGDClassifier(random_state=42)"
     },
     "metadata": {}
    }
   ]
  },
  {
   "cell_type": "code",
   "metadata": {
    "cell_id": "7e0ca3744120431e9e3e25289e9e57e9",
    "tags": [],
    "deepnote_to_be_reexecuted": false,
    "source_hash": "fb00f166",
    "execution_start": 1648637763873,
    "execution_millis": 2,
    "deepnote_cell_type": "code",
    "deepnote_cell_height": 218,
    "deepnote_output_heights": [
     null,
     21
    ]
   },
   "source": "#predict the label for a given instance\nsgd.predict([digit])",
   "execution_count": null,
   "outputs": [
    {
     "name": "stderr",
     "text": "/shared-libs/python3.7/py/lib/python3.7/site-packages/sklearn/base.py:451: UserWarning: X does not have valid feature names, but SGDClassifier was fitted with feature names\n  \"X does not have valid feature names, but\"\n",
     "output_type": "stream"
    },
    {
     "output_type": "execute_result",
     "execution_count": 11,
     "data": {
      "text/plain": "array([ True])"
     },
     "metadata": {}
    }
   ]
  },
  {
   "cell_type": "markdown",
   "source": "### Performance measures",
   "metadata": {
    "cell_id": "9eac806b059749499026d1d6bfecd2e1",
    "tags": [],
    "deepnote_cell_type": "markdown",
    "deepnote_cell_height": 61.600006103515625
   }
  },
  {
   "cell_type": "code",
   "metadata": {
    "cell_id": "59621d40f59349dc8108bf94e69c855d",
    "tags": [],
    "deepnote_to_be_reexecuted": false,
    "source_hash": "3c45da9c",
    "execution_start": 1648637767694,
    "execution_millis": 25421,
    "deepnote_cell_type": "code",
    "deepnote_cell_height": 165.39999389648438
   },
   "source": "#define a cross-validation \nfrom sklearn.model_selection import cross_val_score\nscores = cross_val_score(sgd, x_train, y_train_5, cv=3, scoring='accuracy')\nprint(scores)",
   "execution_count": null,
   "outputs": [
    {
     "name": "stdout",
     "text": "[0.95035 0.96035 0.9604 ]\n",
     "output_type": "stream"
    }
   ]
  },
  {
   "cell_type": "code",
   "metadata": {
    "cell_id": "c966ef33ec2147299abf425b50ee166b",
    "tags": [],
    "deepnote_to_be_reexecuted": false,
    "source_hash": "f40738bb",
    "execution_start": 1648637793136,
    "execution_millis": 33,
    "deepnote_cell_type": "code",
    "deepnote_cell_height": 174.39999389648438,
    "deepnote_output_heights": [
     60
    ]
   },
   "source": "#check class ratio - more than 90% of the instances are False\ny_train_5.value_counts(normalize=True)",
   "execution_count": null,
   "outputs": [
    {
     "output_type": "execute_result",
     "execution_count": 13,
     "data": {
      "text/plain": "False    0.90965\nTrue     0.09035\nName: class, dtype: float64"
     },
     "metadata": {}
    }
   ]
  },
  {
   "cell_type": "code",
   "metadata": {
    "cell_id": "dfc8f5e207d045d6be4e9bdf8656212e",
    "tags": [],
    "deepnote_to_be_reexecuted": false,
    "source_hash": "821ec538",
    "execution_start": 1648637793186,
    "execution_millis": 221,
    "deepnote_cell_type": "code",
    "deepnote_cell_height": 171.39999389648438,
    "deepnote_output_heights": [
     21
    ]
   },
   "source": "#train a Dumb Classifier\nfrom sklearn.dummy import DummyClassifier\ndummy_clf = DummyClassifier(strategy='most_frequent')\ncross_val_score(dummy_clf, x_train, y_train_5, cv=3, scoring='accuracy')",
   "execution_count": null,
   "outputs": [
    {
     "output_type": "execute_result",
     "execution_count": 14,
     "data": {
      "text/plain": "array([0.90965, 0.90965, 0.90965])"
     },
     "metadata": {}
    }
   ]
  },
  {
   "cell_type": "markdown",
   "source": "### Confusion matrix",
   "metadata": {
    "cell_id": "9e6dad364e78437698ff469ae94d1c05",
    "tags": [],
    "deepnote_cell_type": "markdown",
    "deepnote_cell_height": 61.600006103515625
   }
  },
  {
   "cell_type": "code",
   "metadata": {
    "cell_id": "a0aaa9fdf649477fa7f10e032cf1de65",
    "tags": [],
    "deepnote_to_be_reexecuted": false,
    "source_hash": "ed3b27a6",
    "execution_start": 1648637798535,
    "execution_millis": 24912,
    "deepnote_cell_type": "code",
    "deepnote_cell_height": 98.60000610351562
   },
   "source": "from sklearn.model_selection import cross_val_predict\ny_train_pred = cross_val_predict(sgd,x_train,y_train_5,cv=3)",
   "execution_count": null,
   "outputs": []
  },
  {
   "cell_type": "code",
   "metadata": {
    "cell_id": "b93ccfe59d264d4682ad8e88c4a9c796",
    "tags": [],
    "deepnote_to_be_reexecuted": false,
    "source_hash": "2b34a175",
    "execution_start": 1648637823453,
    "execution_millis": 7,
    "deepnote_cell_type": "code",
    "deepnote_cell_height": 117.39999389648438,
    "deepnote_output_heights": [
     21
    ]
   },
   "source": "y_train_pred",
   "execution_count": null,
   "outputs": [
    {
     "output_type": "execute_result",
     "execution_count": 16,
     "data": {
      "text/plain": "array([ True, False, False, ...,  True, False, False])"
     },
     "metadata": {}
    }
   ]
  },
  {
   "cell_type": "code",
   "metadata": {
    "cell_id": "918b94d1a3dd4fc4be3ca3dd13390bc1",
    "tags": [],
    "deepnote_to_be_reexecuted": false,
    "source_hash": "9294ba6b",
    "execution_start": 1648637823467,
    "execution_millis": 22,
    "deepnote_cell_type": "code",
    "deepnote_cell_height": 154.39999389648438,
    "deepnote_output_heights": [
     40
    ]
   },
   "source": "from sklearn.metrics import confusion_matrix\nconfusion_matrix(y_train_5, y_train_pred)",
   "execution_count": null,
   "outputs": [
    {
     "output_type": "execute_result",
     "execution_count": 17,
     "data": {
      "text/plain": "array([[53892,   687],\n       [ 1891,  3530]])"
     },
     "metadata": {}
    }
   ]
  },
  {
   "cell_type": "markdown",
   "source": "### Precision vs Recall\n\nPrecision = TP/(TP+FP): based on the positive predictions, how much did the classifier right?\n\nRecall = TP/(TP+FN): based on the positive instances, how much did the classifier detect?",
   "metadata": {
    "cell_id": "2893b768a3b849fcacaa3461ae670be6",
    "tags": [],
    "deepnote_cell_type": "markdown",
    "deepnote_cell_height": 136.39999389648438
   }
  },
  {
   "cell_type": "code",
   "metadata": {
    "cell_id": "d3667f188ed54dc8ab93e56d8c347d19",
    "tags": [],
    "deepnote_to_be_reexecuted": false,
    "source_hash": "1e839f03",
    "execution_start": 1648637823492,
    "execution_millis": 84,
    "deepnote_cell_type": "code",
    "deepnote_cell_height": 185.39999389648438
   },
   "source": "from sklearn.metrics import precision_score, recall_score\nprint('Precision:', precision_score(y_train_5, y_train_pred))\nprint('Recall:', recall_score(y_train_5, y_train_pred))\n",
   "execution_count": null,
   "outputs": [
    {
     "name": "stdout",
     "text": "Precision: 0.8370879772350012\nRecall: 0.6511713705958311\n",
     "output_type": "stream"
    }
   ]
  },
  {
   "cell_type": "markdown",
   "source": "### F-score\n- Harmonic mean of precision and recall\n- The generalization is the fbeta_score. When beta < 1, it favors precision, when beta > 1 , it favors recall",
   "metadata": {
    "cell_id": "cd328dff759848b0a53262ba0de916dd",
    "tags": [],
    "deepnote_cell_type": "markdown",
    "deepnote_cell_height": 139.39999389648438
   }
  },
  {
   "cell_type": "code",
   "metadata": {
    "cell_id": "459d7feffcb74ae7a072212239321cfb",
    "tags": [],
    "deepnote_to_be_reexecuted": false,
    "source_hash": "f1e928c9",
    "execution_start": 1648637823579,
    "execution_millis": 75,
    "deepnote_cell_type": "code",
    "deepnote_cell_height": 205.39999389648438
   },
   "source": "from sklearn.metrics import f1_score, fbeta_score\nprint('F1-Score:',f1_score(y_train_5, y_train_pred))\nprint('F2-score:', fbeta_score(y_train_5, y_train_pred, beta=2))\nprint('F0.5-score:', fbeta_score(y_train_5, y_train_pred, beta=0.5))",
   "execution_count": null,
   "outputs": [
    {
     "name": "stdout",
     "text": "F1-Score: 0.7325171197343846\nF2-score: 0.6814408710088414\nF0.5-score: 0.7918704293597739\n",
     "output_type": "stream"
    }
   ]
  },
  {
   "cell_type": "markdown",
   "source": "### Precision/Recall trade-off\n- To assign True or False, the classifer computes a decision function and based on a certain threshold, if the decision score for a given is greater than the threshold, the prediction will be True, otherwise False. ",
   "metadata": {
    "cell_id": "568b6c5f53464e22a7e54bccaf481574",
    "tags": [],
    "deepnote_cell_type": "markdown",
    "deepnote_cell_height": 136.39999389648438
   }
  },
  {
   "cell_type": "code",
   "metadata": {
    "cell_id": "dac541953de448f6aed5f38fc59b6965",
    "tags": [],
    "deepnote_to_be_reexecuted": false,
    "source_hash": "564c50d6",
    "execution_start": 1648637823690,
    "execution_millis": 24814,
    "deepnote_cell_type": "code",
    "deepnote_cell_height": 172.39999389648438,
    "deepnote_output_heights": [
     40
    ]
   },
   "source": "#computes the decision score for each instance\ny_scores = cross_val_predict(sgd, x_train, y_train_5, cv=3, method='decision_function')\ny_scores",
   "execution_count": null,
   "outputs": [
    {
     "output_type": "execute_result",
     "execution_count": 20,
     "data": {
      "text/plain": "array([  1200.93051237, -26883.79202424, -33072.03475406, ...,\n        13272.12718981,  -7258.47203373, -16877.50840447])"
     },
     "metadata": {}
    }
   ]
  },
  {
   "cell_type": "code",
   "metadata": {
    "cell_id": "1623340249674e2290a79ab0f9e468c5",
    "tags": [],
    "deepnote_to_be_reexecuted": false,
    "source_hash": "307f2ee2",
    "execution_start": 1648637848492,
    "execution_millis": 1,
    "deepnote_cell_type": "code",
    "deepnote_cell_height": 98.60000610351562
   },
   "source": "from sklearn.metrics import precision_recall_curve\nprecisions, recalls, th = precision_recall_curve(y_train_5, y_scores)",
   "execution_count": null,
   "outputs": []
  },
  {
   "cell_type": "code",
   "metadata": {
    "cell_id": "363c289dd2494329acacade12ae0c183",
    "tags": [],
    "deepnote_to_be_reexecuted": false,
    "source_hash": "fd554d20",
    "execution_start": 1648637848493,
    "execution_millis": 412,
    "deepnote_cell_type": "code",
    "deepnote_cell_height": 702.2000122070312,
    "deepnote_output_heights": [
     21,
     482
    ]
   },
   "source": "plt.figure(figsize=(10,8))\nplt.plot(th, precisions[:-1], 'b--',label='Precision')\nplt.plot(th, recalls[:-1], 'g-',label='Recall')\nplt.xlabel('Threshold')\nplt.legend()",
   "execution_count": null,
   "outputs": [
    {
     "output_type": "execute_result",
     "execution_count": 22,
     "data": {
      "text/plain": "<matplotlib.legend.Legend at 0x7f4e3eaf7b10>"
     },
     "metadata": {}
    },
    {
     "data": {
      "text/plain": "<Figure size 720x576 with 1 Axes>",
      "image/png": "[encoded data removed]"
     },
     "metadata": {
      "needs_background": "light",
      "image/png": {
       "width": 595,
       "height": 480
      }
     },
     "output_type": "display_data"
    }
   ]
  },
  {
   "cell_type": "code",
   "metadata": {
    "cell_id": "829ed7f329c04494a2714b4cf18feb2b",
    "tags": [],
    "deepnote_to_be_reexecuted": false,
    "source_hash": "5d2141d2",
    "execution_start": 1648637854969,
    "execution_millis": 250,
    "deepnote_cell_type": "code",
    "deepnote_cell_height": 684.2000122070312,
    "deepnote_output_heights": [
     21,
     482
    ]
   },
   "source": "plt.figure(figsize=(10,8))\nplt.plot(recalls,precisions)\nplt.xlabel('Recall')\nplt.ylabel('Precision')",
   "execution_count": null,
   "outputs": [
    {
     "output_type": "execute_result",
     "execution_count": 23,
     "data": {
      "text/plain": "Text(0, 0.5, 'Precision')"
     },
     "metadata": {}
    },
    {
     "data": {
      "text/plain": "<Figure size 720x576 with 1 Axes>",
      "image/png": "[encoded data removed]"
     },
     "metadata": {
      "needs_background": "light",
      "image/png": {
       "width": 609,
       "height": 480
      }
     },
     "output_type": "display_data"
    }
   ]
  },
  {
   "cell_type": "code",
   "metadata": {
    "cell_id": "e4702c0575884e03a0dc486c48d3c527",
    "tags": [],
    "deepnote_to_be_reexecuted": false,
    "source_hash": "f357e049",
    "execution_start": 1648637859198,
    "execution_millis": 11,
    "deepnote_cell_type": "code",
    "deepnote_cell_height": 171.39999389648438,
    "deepnote_output_heights": [
     21
    ]
   },
   "source": "#goal: obtain a 90% precision classifier\nimport numpy as np\nthreshold_90_pr = th[np.argmax(precisions >= .9)]\nthreshold_90_pr",
   "execution_count": null,
   "outputs": [
    {
     "output_type": "execute_result",
     "execution_count": 24,
     "data": {
      "text/plain": "3370.019499143958"
     },
     "metadata": {}
    }
   ]
  },
  {
   "cell_type": "code",
   "metadata": {
    "cell_id": "e95bd28751cb4ceaa0a41fee9ae37494",
    "tags": [],
    "deepnote_to_be_reexecuted": false,
    "source_hash": "3a6a5a29",
    "execution_start": 1648637860585,
    "execution_millis": 1,
    "deepnote_cell_type": "code",
    "deepnote_cell_height": 80.60000610351562
   },
   "source": "y_train_pred_90 = (y_scores >= threshold_90_pr)",
   "execution_count": null,
   "outputs": []
  },
  {
   "cell_type": "code",
   "metadata": {
    "cell_id": "d043243c69974d3580bdff064b8c18c6",
    "tags": [],
    "deepnote_to_be_reexecuted": false,
    "source_hash": "333c4478",
    "execution_start": 1648637861251,
    "execution_millis": 45,
    "deepnote_cell_type": "code",
    "deepnote_cell_height": 149.39999389648438
   },
   "source": "print('Precision: ', precision_score(y_train_5, y_train_pred_90))\nprint('Recall: ',recall_score(y_train_5, y_train_pred_90))",
   "execution_count": null,
   "outputs": [
    {
     "name": "stdout",
     "text": "Precision:  0.9000345901072293\nRecall:  0.4799852425751706\n",
     "output_type": "stream"
    }
   ]
  },
  {
   "cell_type": "markdown",
   "source": "### ROC Curve\n- plots the True Positive rate versus the False Positive rate",
   "metadata": {
    "cell_id": "b5c8e48817d5433fbfb38b066e02c4dd",
    "tags": [],
    "deepnote_cell_type": "markdown",
    "deepnote_cell_height": 114
   }
  },
  {
   "cell_type": "code",
   "metadata": {
    "cell_id": "3c7220f815ef4ea18f0cc487e7b07e4d",
    "tags": [],
    "deepnote_to_be_reexecuted": false,
    "source_hash": "9a802d3a",
    "execution_start": 1648637862895,
    "execution_millis": 19,
    "deepnote_cell_type": "code",
    "deepnote_cell_height": 98.60000610351562
   },
   "source": "from sklearn.metrics import roc_curve\nfpr, tpr, th = roc_curve(y_train_5, y_scores)",
   "execution_count": null,
   "outputs": []
  },
  {
   "cell_type": "code",
   "metadata": {
    "cell_id": "802213cc8e884d2ca14dc3a41213dc1b",
    "tags": [],
    "deepnote_to_be_reexecuted": false,
    "source_hash": "356c2709",
    "execution_start": 1648637863667,
    "execution_millis": 290,
    "deepnote_cell_type": "code",
    "deepnote_cell_height": 684.2000122070312,
    "deepnote_output_heights": [
     21,
     482
    ]
   },
   "source": "plt.figure(figsize=(10,8))\nplt.plot(fpr, tpr)\nplt.xlabel('False Positive Rate')\nplt.ylabel('True Positive Rate')",
   "execution_count": null,
   "outputs": [
    {
     "output_type": "execute_result",
     "execution_count": 28,
     "data": {
      "text/plain": "Text(0, 0.5, 'True Positive Rate')"
     },
     "metadata": {}
    },
    {
     "data": {
      "text/plain": "<Figure size 720x576 with 1 Axes>",
      "image/png": "[encoded data removed]"
     },
     "metadata": {
      "needs_background": "light",
      "image/png": {
       "width": 609,
       "height": 480
      }
     },
     "output_type": "display_data"
    }
   ]
  },
  {
   "cell_type": "code",
   "metadata": {
    "cell_id": "ef1569e5054a4f80a5e2d6c37ebad025",
    "tags": [],
    "deepnote_to_be_reexecuted": false,
    "source_hash": "a3f50131",
    "execution_start": 1648637865727,
    "execution_millis": 63,
    "deepnote_cell_type": "code",
    "deepnote_cell_height": 129.39999389648438
   },
   "source": "from sklearn.metrics import roc_auc_score\nprint('AUC:', roc_auc_score(y_train_5, y_scores))",
   "execution_count": null,
   "outputs": [
    {
     "name": "stdout",
     "text": "AUC: 0.9604938554008616\n",
     "output_type": "stream"
    }
   ]
  },
  {
   "cell_type": "markdown",
   "source": "If we care more about the False positive rate or the positive class is rare, prefer using the Precision-Recall curve. Otherwise , use ROC curve.",
   "metadata": {
    "cell_id": "4cc1280d40024b04af88c082fd39f6f5",
    "tags": [],
    "deepnote_cell_type": "markdown",
    "deepnote_cell_height": 74.39999389648438
   }
  },
  {
   "cell_type": "markdown",
   "source": "### Training a Random Forest Classifier",
   "metadata": {
    "cell_id": "67a9826113024c91b838ba3b45f7900e",
    "tags": [],
    "deepnote_cell_type": "markdown",
    "deepnote_cell_height": 61.600006103515625
   }
  },
  {
   "cell_type": "code",
   "metadata": {
    "cell_id": "c22de0006dd74b1aa14f01fb49a5da17",
    "tags": [],
    "deepnote_to_be_reexecuted": false,
    "source_hash": "a77aa167",
    "execution_start": 1648637977727,
    "execution_millis": 76304,
    "deepnote_cell_type": "code",
    "deepnote_cell_height": 152.60000610351562
   },
   "source": "from sklearn.ensemble import RandomForestClassifier\nrf = RandomForestClassifier(random_state=42)\ny_probas_forest = cross_val_predict(rf,x_train, y_train_5, method='predict_proba', cv=3)\ny_scores_forest = y_probas_forest[:,1] #proba of positive class\nfpr_rf, tpr_rf, th = roc_curve(y_train_5, y_scores_forest)",
   "execution_count": null,
   "outputs": []
  },
  {
   "cell_type": "code",
   "metadata": {
    "cell_id": "2b9de9d899fb491ca271c4c5dc885f62",
    "tags": [],
    "deepnote_to_be_reexecuted": false,
    "source_hash": "1ba1e4d",
    "execution_start": 1648638069487,
    "execution_millis": 319,
    "deepnote_cell_type": "code",
    "deepnote_cell_height": 720.2000122070312,
    "deepnote_output_heights": [
     21,
     482
    ]
   },
   "source": "plt.figure(figsize=(10,8))\nplt.plot(fpr, tpr,label='SGD')\nplt.plot(fpr_rf, tpr_rf,'g--',label='Random Forest')\nplt.xlabel('False Positive Rate')\nplt.ylabel('True Positive Rate')\nplt.legend()",
   "execution_count": null,
   "outputs": [
    {
     "output_type": "execute_result",
     "execution_count": 33,
     "data": {
      "text/plain": "<matplotlib.legend.Legend at 0x7f4e3c3af4d0>"
     },
     "metadata": {}
    },
    {
     "data": {
      "text/plain": "<Figure size 720x576 with 1 Axes>",
      "image/png": "[encoded data removed]"
     },
     "metadata": {
      "needs_background": "light",
      "image/png": {
       "width": 609,
       "height": 480
      }
     },
     "output_type": "display_data"
    }
   ]
  },
  {
   "cell_type": "code",
   "metadata": {
    "cell_id": "edc9abf9e4a348fc8f47c25b1f362bdf",
    "tags": [],
    "deepnote_to_be_reexecuted": false,
    "source_hash": "3f487f84",
    "execution_start": 1648638121132,
    "execution_millis": 153,
    "deepnote_cell_type": "code",
    "deepnote_cell_height": 149.39999389648438
   },
   "source": "print('AUC SGD:',roc_auc_score(y_train_5, y_scores))\nprint('AUC Random Forest:',roc_auc_score(y_train_5, y_scores_forest))",
   "execution_count": null,
   "outputs": [
    {
     "name": "stdout",
     "text": "AUC SGD: 0.9604938554008616\nAUC Random Forest: 0.9983436731328145\n",
     "output_type": "stream"
    }
   ]
  },
  {
   "cell_type": "markdown",
   "source": "### Multiclass problems\n\n- instead of having 2 classes, let's consider more classes.\n- some algorithms can natively deal with more than 2 classes, however some of them can not (eg. Logistic Regression, Support Vector Machines, etc)\n- for these algorithms uncapable of dealing with more than 2 classes, we can use 2 common strategies called OneversusRest and OneversusOne",
   "metadata": {
    "cell_id": "cb571cdc7641401fa6f2ad1bb652e77c",
    "tags": [],
    "deepnote_cell_type": "markdown",
    "deepnote_cell_height": 209.60000610351562
   }
  },
  {
   "cell_type": "code",
   "metadata": {
    "cell_id": "ac7669ce7ddd4188b73b4f75ab84f866",
    "tags": [],
    "deepnote_to_be_reexecuted": false,
    "source_hash": "50636ecf",
    "execution_start": 1648638683622,
    "execution_millis": 288816,
    "deepnote_cell_type": "code",
    "deepnote_cell_height": 254,
    "deepnote_output_heights": [
     null,
     21
    ]
   },
   "source": "from sklearn.svm import SVC\nsvc = SVC() #default is OvR\nsvc.fit(x_train, y_train)\nsvc.predict([digit])",
   "execution_count": null,
   "outputs": [
    {
     "name": "stderr",
     "text": "/shared-libs/python3.7/py/lib/python3.7/site-packages/sklearn/base.py:451: UserWarning: X does not have valid feature names, but SVC was fitted with feature names\n  \"X does not have valid feature names, but\"\n",
     "output_type": "stream"
    },
    {
     "output_type": "execute_result",
     "execution_count": 36,
     "data": {
      "text/plain": "array([5])"
     },
     "metadata": {}
    }
   ]
  },
  {
   "cell_type": "code",
   "metadata": {
    "cell_id": "76c5e7007a984a9698f6b7085ef4135e",
    "tags": [],
    "deepnote_to_be_reexecuted": false,
    "source_hash": "b9137e59",
    "execution_start": 1648638978276,
    "execution_millis": 41,
    "deepnote_cell_type": "code",
    "deepnote_cell_height": 237,
    "deepnote_output_heights": [
     null,
     40
    ]
   },
   "source": "#the score for class = 5 is the highest one\nsvc.decision_function([digit])",
   "execution_count": null,
   "outputs": [
    {
     "name": "stderr",
     "text": "/shared-libs/python3.7/py/lib/python3.7/site-packages/sklearn/base.py:451: UserWarning: X does not have valid feature names, but SVC was fitted with feature names\n  \"X does not have valid feature names, but\"\n",
     "output_type": "stream"
    },
    {
     "output_type": "execute_result",
     "execution_count": 37,
     "data": {
      "text/plain": "array([[ 1.72501977,  2.72809088,  7.2510018 ,  8.3076379 , -0.31087254,\n         9.3132482 ,  1.70975103,  2.76765202,  6.23049537,  4.84771048]])"
     },
     "metadata": {}
    }
   ]
  },
  {
   "cell_type": "code",
   "metadata": {
    "cell_id": "1d892c6305d9442eb2d0e63f461f338c",
    "tags": [],
    "deepnote_cell_type": "code",
    "deepnote_cell_height": 65.60000610351562
   },
   "source": "",
   "execution_count": null,
   "outputs": []
  },
  {
   "cell_type": "markdown",
   "source": "<a style='text-decoration:none;line-height:16px;display:flex;color:#5B5B62;padding:10px;justify-content:end;' href='https://deepnote.com?utm_source=created-in-deepnote-cell&projectId=2b7eb737-18d4-4683-a9e5-3ea902dd423b' target=\"_blank\">\n<img alt='Created in deepnote.com' style='display:inline;max-height:16px;margin:0px;margin-right:7.5px;' src='data:image/svg+xml;base64,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' > </img>\nCreated in <span style='font-weight:600;margin-left:4px;'>Deepnote</span></a>",
   "metadata": {
    "tags": [],
    "created_in_deepnote_cell": true,
    "deepnote_cell_type": "markdown"
   }
  }
 ],
 "nbformat": 4,
 "nbformat_minor": 2,
 "metadata": {
  "orig_nbformat": 2,
  "deepnote": {
   "is_reactive": false
  },
  "deepnote_notebook_id": "96f159b4-a90b-4733-838d-ba7f4eefdc08",
  "deepnote_execution_queue": []
 }
}