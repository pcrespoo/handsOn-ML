{
 "cells": [
  {
   "cell_type": "markdown",
   "source": "### Decision Trees\n- Versatile technique in ML\n- They are the fundamentals of more complex tree-base algorithms (like Random Forest)",
   "metadata": {
    "cell_id": "c2bd9182cdec4d6a98f4df77aded5ca2",
    "tags": [],
    "deepnote_cell_type": "markdown",
    "deepnote_cell_height": 139.39999389648438
   }
  },
  {
   "cell_type": "markdown",
   "source": "#### Training a Decision Tree in Sklearn",
   "metadata": {
    "cell_id": "1aca11f85acf449c923d915686d6cb46",
    "tags": [],
    "deepnote_cell_type": "markdown",
    "deepnote_cell_height": 53.600006103515625
   }
  },
  {
   "cell_type": "code",
   "metadata": {
    "tags": [],
    "cell_id": "c7b7a991-9f30-4cc9-949f-7d25c4ea87f4",
    "deepnote_to_be_reexecuted": false,
    "source_hash": "612d962c",
    "execution_start": 1650882969766,
    "execution_millis": 25,
    "deepnote_cell_type": "code",
    "deepnote_cell_height": 261.3999938964844,
    "deepnote_output_heights": [
     21
    ]
   },
   "source": "from sklearn.datasets import load_iris\nfrom sklearn.tree import DecisionTreeClassifier\n\niris = load_iris()\nX = iris.data[:,2:]\ny = iris.target\n\ntree = DecisionTreeClassifier(max_depth=2)\ntree.fit(X,y)",
   "execution_count": null,
   "outputs": [
    {
     "output_type": "execute_result",
     "execution_count": 2,
     "data": {
      "text/plain": "DecisionTreeClassifier(max_depth=2)"
     },
     "metadata": {}
    }
   ]
  },
  {
   "cell_type": "code",
   "metadata": {
    "cell_id": "bb469aae52464ecb8b94dab30db4b338",
    "tags": [],
    "deepnote_to_be_reexecuted": false,
    "source_hash": "372f0bf9",
    "execution_start": 1650883175295,
    "execution_millis": 1,
    "deepnote_cell_type": "code",
    "deepnote_cell_height": 224.60000610351562
   },
   "source": "from sklearn.tree import export_graphviz\nexport_graphviz(\n    tree,\n    out_file = 'iris_tree.png',\n    feature_names=iris.feature_names[2:],\n    class_names = iris.target_names,\n    rounded=True,\n    filled=True\n)",
   "execution_count": null,
   "outputs": []
  },
  {
   "cell_type": "markdown",
   "source": "",
   "metadata": {
    "cell_id": "af1b3eeb6c5f4b5885d0249cc3bd4545",
    "tags": [],
    "deepnote_cell_type": "markdown",
    "deepnote_cell_height": 45.600006103515625
   }
  },
  {
   "cell_type": "markdown",
   "source": "![Picture title](image-20220425-074123.png)\nExtracted from: https://rachelchen0104.medium.com/6-decision-trees-hands-on-ml-f0822ee43219",
   "metadata": {
    "cell_id": "0c8ce6a1327b4033a8d0f9517594ff12",
    "tags": [],
    "deepnote_cell_type": "markdown",
    "deepnote_cell_height": 546
   }
  },
  {
   "cell_type": "markdown",
   "source": "#### Interpretation:\n- it starts at node 0 (the top one) and a there is a question concerning the petal length (is it less or equal to 2.45cm?)\n    - if so, then the algorithm proceeds to the node on the left (a leaf node)\n        - Among the 150 observations, 50 of them falls into the left node and all of the training instances correspond to the same class (setosa), indicating a gini = 0 (pure node)\n    - If not, then the algorithm proceeds to the node on the right (a child node) and it makes another question concerning the petal width (is it less or equal to 1.75cm?) and another split occurs\n        - the bottom-right node has a gini= 0.0425 (not totally pure)\n\n- Gini impurity: it ranges from 0 to 1 and when closer to 0, the better. On the equation below, p is defined as the proportion of classes among the total amount of instances in the specified node (denoted by samples)\n    - on the bottom-left, G is computed by 1 - (0/54)**2 - (49/54)**2 - (5/54)**2\n\n- the parameter max_depth indicated the depth of the tree and it matches the number of \"questions\" made!\n",
   "metadata": {
    "cell_id": "12feca7d624546ec96c0cc0a861d3faf",
    "tags": [],
    "deepnote_cell_type": "markdown",
    "deepnote_cell_height": 402
   }
  },
  {
   "cell_type": "markdown",
   "source": "![Picture title](image-20220425-075420.png)",
   "metadata": {
    "cell_id": "f2e5cf2d92bf49719ef650f8daf8e826",
    "tags": [],
    "deepnote_cell_type": "markdown",
    "deepnote_cell_height": 187.60000610351562
   }
  },
  {
   "cell_type": "markdown",
   "source": "#### Estimating class probabilities\n- trees can return the probability of a instance beloging to each class\n- suppose we want to check a flower of petal length=5cm and petal width= 1.5. In the picture above, it would fall into the bottom-left node and the probability for each class is:\n    - setosa = 0/54 = 0\n    - versicolor = 49/54 = 0.9074\n    - virginica = 5/54= 0.09259",
   "metadata": {
    "cell_id": "ec08dec316774d08a97e4e6868433ba8",
    "tags": [],
    "deepnote_cell_type": "markdown",
    "deepnote_cell_height": 226
   }
  },
  {
   "cell_type": "code",
   "metadata": {
    "cell_id": "abc289ebe9704e6e902d1da7f946e092",
    "tags": [],
    "deepnote_to_be_reexecuted": false,
    "source_hash": "e0f651f4",
    "execution_start": 1650884531464,
    "execution_millis": 6,
    "deepnote_cell_type": "code",
    "deepnote_cell_height": 117.39999389648438,
    "deepnote_output_heights": [
     21
    ]
   },
   "source": "tree.predict_proba([[5,1.5]])",
   "execution_count": null,
   "outputs": [
    {
     "output_type": "execute_result",
     "execution_count": 11,
     "data": {
      "text/plain": "array([[0.        , 0.90740741, 0.09259259]])"
     },
     "metadata": {}
    }
   ]
  },
  {
   "cell_type": "code",
   "metadata": {
    "cell_id": "45fe1420808b41abb8cb939898879e7a",
    "tags": [],
    "deepnote_to_be_reexecuted": false,
    "source_hash": "f9b75906",
    "execution_start": 1650884728800,
    "execution_millis": 7,
    "deepnote_cell_type": "code",
    "deepnote_cell_height": 117.39999389648438,
    "deepnote_output_heights": [
     21
    ]
   },
   "source": "tree.predict([[5,1.5]]) #versicolor",
   "execution_count": null,
   "outputs": [
    {
     "output_type": "execute_result",
     "execution_count": 13,
     "data": {
      "text/plain": "array([1])"
     },
     "metadata": {}
    }
   ]
  },
  {
   "cell_type": "markdown",
   "source": "#### The CART algorithm\n- Classification and Regression Tree\n- the cost function the the algorithm uses to create the tree is as follows:\n",
   "metadata": {
    "cell_id": "067d59df7f1c4df385c941a8d2e8fba5",
    "tags": [],
    "deepnote_cell_type": "markdown",
    "deepnote_cell_height": 127.39999389648438
   }
  },
  {
   "cell_type": "markdown",
   "source": "![Picture title](image-20220425-080856.png)\nExtracted from: https://towardsdatascience.com/decision-trees-6-important-things-to-always-remember-85636858da51",
   "metadata": {
    "cell_id": "7cf7b94d6c9347e480630ad2b6cc94c9",
    "tags": [],
    "deepnote_cell_type": "markdown",
    "deepnote_cell_height": 255
   }
  },
  {
   "cell_type": "markdown",
   "source": "#### \n- The algorithm tries to minimize this function, where at every node it must split the subset, it looks for the pair (k,tk) that generates the maximum purity in the subsequent nodes, weighted by the number of instances (mleft, mright and m)\n    - k,tk is the pair of variable and a specific threshold for thr variable\n        - in on our example, at the top node, the pair petal length and 2.45 was the one that could generate the purest subsequent node",
   "metadata": {
    "cell_id": "987aa8fb223548db9b1cafe462d2dcef",
    "tags": [],
    "deepnote_cell_type": "markdown",
    "deepnote_cell_height": 173.60000610351562
   }
  },
  {
   "cell_type": "code",
   "metadata": {
    "cell_id": "c9f94a4ca93d474d895c8080e09f323e",
    "tags": [],
    "owner_user_id": "84d099f7-8557-4d5b-83f6-27e0e8a38761",
    "deepnote_cell_type": "code",
    "deepnote_cell_height": 65.60000610351562
   },
   "source": "",
   "execution_count": null,
   "outputs": []
  },
  {
   "cell_type": "markdown",
   "source": "<a style='text-decoration:none;line-height:16px;display:flex;color:#5B5B62;padding:10px;justify-content:end;' href='https://deepnote.com?utm_source=created-in-deepnote-cell&projectId=2b7eb737-18d4-4683-a9e5-3ea902dd423b' target=\"_blank\">\n<img alt='Created in deepnote.com' style='display:inline;max-height:16px;margin:0px;margin-right:7.5px;' src='data:image/svg+xml;base64,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' > </img>\nCreated in <span style='font-weight:600;margin-left:4px;'>Deepnote</span></a>",
   "metadata": {
    "tags": [],
    "created_in_deepnote_cell": true,
    "deepnote_cell_type": "markdown"
   }
  }
 ],
 "nbformat": 4,
 "nbformat_minor": 2,
 "metadata": {
  "orig_nbformat": 2,
  "deepnote": {},
  "deepnote_notebook_id": "dad78f80-6f98-4ec6-aeee-987cdfdc5fe1",
  "deepnote_execution_queue": []
 }
}