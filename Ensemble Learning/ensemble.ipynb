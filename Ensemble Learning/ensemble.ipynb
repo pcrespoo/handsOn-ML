{
 "cells": [
  {
   "cell_type": "markdown",
   "source": "### Ensemble Learning\n- this technique consists on combining individual estimators(for both classification and regression tasks) to make an even better estimator\n- Common techniques are: bagging, boosting and stacking\n- A famous algorithm in this type of statistical learning is the Random Forest, in which we train many individual Decision Trees with different random subsets of the training data and then get the final prediction",
   "metadata": {
    "cell_id": "298958dbc8ce484cb3a1d229f22ec821",
    "tags": [],
    "deepnote_cell_type": "markdown",
    "deepnote_cell_height": 232.34375
   }
  },
  {
   "cell_type": "markdown",
   "source": "#### Voting Classifier\n- A common technique is based on the concept of *hard voting classifier*\n- the workflow is as follows: imagine we are dealing with a classification task and we train different algorithms (such Logistic Regression, KNN, Decision Tree, SVM, etc). \n- Once we have each algorithm trained, we apply each of them to a unknown instance and so we end up having n estimations, where n is the number of algorithms used.\n- Let's say we have n = 5 and our problem is binary. If 4 of them estimates the class as being 1 and only one estimates the class being 0, then, by using the voting system, we classify the instance as being 1.\n\n- **NOTE**: combining different algorithms is better than training many equal algorithms, since this implies making different types of errors and better estimations!",
   "metadata": {
    "cell_id": "9497e1d03a004086b788c0eccda2e8dd",
    "tags": [],
    "deepnote_cell_type": "markdown",
    "deepnote_cell_height": 293.515625
   }
  },
  {
   "cell_type": "code",
   "metadata": {
    "tags": [],
    "cell_id": "336f6873-761f-45d3-b8e9-a125ffe67d4a",
    "deepnote_to_be_reexecuted": false,
    "source_hash": "6d070e89",
    "execution_start": 1651348004179,
    "execution_millis": 1501,
    "deepnote_cell_type": "code",
    "deepnote_cell_height": 171
   },
   "source": "from sklearn.ensemble import RandomForestClassifier\nfrom sklearn.ensemble import VotingClassifier\nfrom sklearn.svm import SVC\nfrom sklearn.linear_model import LogisticRegression\nfrom sklearn.datasets import make_moons\nfrom sklearn.model_selection import train_test_split",
   "execution_count": null,
   "outputs": []
  },
  {
   "cell_type": "code",
   "metadata": {
    "cell_id": "d98eb35841fa498fbc7cc137fa6f2bd3",
    "tags": [],
    "deepnote_to_be_reexecuted": false,
    "source_hash": "daa4b804",
    "execution_start": 1651348008275,
    "execution_millis": 5,
    "deepnote_cell_type": "code",
    "deepnote_cell_height": 99
   },
   "source": "X,y = make_moons(n_samples=10000,noise=0.1,random_state=4)\nx_train, x_test, y_train, y_test = train_test_split(X,y,train_size=.7,random_state=42)",
   "execution_count": null,
   "outputs": []
  },
  {
   "cell_type": "code",
   "metadata": {
    "cell_id": "6979d387cb7a47d0b92d23fb020d3c0e",
    "tags": [],
    "deepnote_to_be_reexecuted": false,
    "source_hash": "214302d2",
    "execution_start": 1651348009703,
    "execution_millis": 2,
    "deepnote_cell_type": "code",
    "deepnote_cell_height": 189
   },
   "source": "rf = RandomForestClassifier()\nsvc = SVC()\nlr = LogisticRegression()\nvoting_clf = VotingClassifier(\n    estimators=[('log_reg',LogisticRegression()),('rf',rf),('svc',svc)],\n    voting='hard'\n)",
   "execution_count": null,
   "outputs": []
  },
  {
   "cell_type": "code",
   "metadata": {
    "cell_id": "994661d0c62845979643168cee3d2c1e",
    "tags": [],
    "deepnote_to_be_reexecuted": false,
    "source_hash": "9120f6d9",
    "execution_start": 1651348010268,
    "execution_millis": 1867,
    "deepnote_cell_type": "code",
    "deepnote_cell_height": 244.75
   },
   "source": "from sklearn.metrics import accuracy_score\nfor clf in [rf,svc,lr, voting_clf]:\n    clf.fit(x_train, y_train)\n    pred = clf.predict(x_test)\n    print(clf.__class__.__name__,accuracy_score(y_test, pred))",
   "execution_count": null,
   "outputs": [
    {
     "name": "stdout",
     "text": "RandomForestClassifier 0.998\nSVC 0.9996666666666667\nLogisticRegression 0.883\nVotingClassifier 0.9986666666666667\n",
     "output_type": "stream"
    }
   ]
  },
  {
   "cell_type": "markdown",
   "source": "The Voting Classifier is better than the single Logistic Regression, for example!",
   "metadata": {
    "cell_id": "dc5d90ecb8c94d4a9713df17ab499c84",
    "tags": [],
    "deepnote_cell_type": "markdown",
    "deepnote_cell_height": 52.390625
   }
  },
  {
   "cell_type": "markdown",
   "source": "#### Bagging and Pasting\n- They correspond to an ensemble method, in which instead of using different algorithms , we use the same kind of algorithm , and each of them will deal with a random subset of the training set\n- This subset can be sampled with replacement (bagging) or without replacement(pasting)\n- Each instance can appear in multiple subsets , but **only** on bagging we can see the same instance appearing 2 times or more.\n- Once we have each subset , we train the estimators and then get the final prediction, which can be the mode of the classes among all the estimators (in case of classification) or the averaged value (in case of regression)\n- In terms of generalization, the ensemble using bagging has similar bias to an individual estimator, but smaller variance (smoother decision boundary)",
   "metadata": {
    "cell_id": "a481fc76cc034bada00f07b328468ad2",
    "tags": [],
    "deepnote_cell_type": "markdown",
    "deepnote_cell_height": 315.90625
   }
  },
  {
   "cell_type": "markdown",
   "source": "",
   "metadata": {
    "cell_id": "8d925ae2341a491c91c18426e3e0f884",
    "tags": [],
    "deepnote_cell_type": "markdown",
    "deepnote_cell_height": 46
   }
  },
  {
   "cell_type": "markdown",
   "source": "![Picture title](image-20220430-163926.png)\n\nExtracted from: https://livebook.manning.com/book/ensemble-methods-for-machine-learning/chapter-2/v-1/",
   "metadata": {
    "cell_id": "fc065461ec08463cbdbdebc4574976d0",
    "tags": [],
    "deepnote_cell_type": "markdown",
    "deepnote_cell_height": 114.78125
   }
  },
  {
   "cell_type": "code",
   "metadata": {
    "cell_id": "12f150b4d816410fae55973b871fd210",
    "tags": [],
    "deepnote_to_be_reexecuted": false,
    "source_hash": "ae75830c",
    "execution_start": 1651348058583,
    "execution_millis": 1249,
    "deepnote_cell_type": "code",
    "deepnote_cell_height": 292.1875
   },
   "source": "from sklearn.ensemble import BaggingClassifier\nfrom sklearn.tree import DecisionTreeClassifier\n\nbag_clf = BaggingClassifier(\n    DecisionTreeClassifier(), n_estimators=500,\n    max_samples=100, bootstrap=True\n)\n\nbag_clf.fit(x_train, y_train)\ny_pred = bag_clf.predict(x_test)\nprint('Accuracy:',accuracy_score(y_test, y_pred))",
   "execution_count": null,
   "outputs": [
    {
     "name": "stdout",
     "text": "Accuracy: 0.9786666666666667\n",
     "output_type": "stream"
    }
   ]
  },
  {
   "cell_type": "markdown",
   "source": "#### Random Forests\n- a famous ensemble algorithm based on many Decision Trees\n- unlike individual decision trees, each tree of the forest searches for the best feature among a random subset of features, instead of looking for the best feature among all the features available\n- **NOTE**: there is a version of this algorithm for regression tasks called RandomForestRegressor",
   "metadata": {
    "cell_id": "343ac68067ca4a1b88537008de5395a7",
    "tags": [],
    "deepnote_cell_type": "markdown",
    "deepnote_cell_height": 175.5625
   }
  },
  {
   "cell_type": "code",
   "metadata": {
    "cell_id": "923325cf9455472ea78ef52eba9eb00c",
    "tags": [],
    "deepnote_to_be_reexecuted": false,
    "source_hash": "7f5710bc",
    "execution_start": 1651348389389,
    "execution_millis": 2536,
    "deepnote_cell_type": "code",
    "deepnote_cell_height": 202.1875
   },
   "source": "from sklearn.ensemble import RandomForestClassifier\n\nrf = RandomForestClassifier(n_estimators=500, max_leaf_nodes=16)\nrf.fit(x_train, y_train)\ny_pred = rf.predict(x_test)\nprint('Accuracy:',accuracy_score(y_test, y_pred))",
   "execution_count": null,
   "outputs": [
    {
     "name": "stdout",
     "text": "Accuracy: 0.9926666666666667\n",
     "output_type": "stream"
    }
   ]
  },
  {
   "cell_type": "markdown",
   "source": "#### Extra-Trees (*Extremely Randomized Trees*)\n- this is a variation of Random forest, in which for each feature used to split a node, a **random** threshold is also used\n- this implies more bias, but provides lower variance\n- **NOTE**: there is a version of this algorithm for regression tasks called ExtraTreesRegressor",
   "metadata": {
    "cell_id": "c69b7c280f8845a6af6967a043b1ed38",
    "tags": [],
    "deepnote_cell_type": "markdown",
    "deepnote_cell_height": 175.5625
   }
  },
  {
   "cell_type": "code",
   "metadata": {
    "cell_id": "3ee56badb23b4fa5b241d5430eeeba9a",
    "tags": [],
    "deepnote_to_be_reexecuted": false,
    "source_hash": "901c9d1c",
    "execution_start": 1651348762017,
    "execution_millis": 2379,
    "deepnote_cell_type": "code",
    "deepnote_cell_height": 202.1875
   },
   "source": "from sklearn.ensemble import ExtraTreesClassifier\n\nextra_tr = ExtraTreesClassifier(n_estimators=500, max_leaf_nodes=16)\nextra_tr.fit(x_train, y_train)\ny_pred = extra_tr.predict(x_test)\nprint('Accuracy:',accuracy_score(y_test, y_pred))",
   "execution_count": null,
   "outputs": [
    {
     "name": "stdout",
     "text": "Accuracy: 0.9906666666666667\n",
     "output_type": "stream"
    }
   ]
  },
  {
   "cell_type": "markdown",
   "source": "#### Feature Importance\n- this is a special component of Random Forests in which we are able to identify which features were the most important ones for the decisions made\n- it is computed after training and its essence relies on the following question: based on the tree nodes that used the feature X for split, how much did the impurity decay on average, across all trees? Obviously, the amount of samples that each node has is not equal, so it is weighted average!\n- The sum of the feature importances is 1",
   "metadata": {
    "cell_id": "4234a034210e4562bc95a4d12d77caa0",
    "tags": [],
    "deepnote_cell_type": "markdown",
    "deepnote_cell_height": 220.34375
   }
  },
  {
   "cell_type": "code",
   "metadata": {
    "cell_id": "dbaa68432aac4fe4b205b58974adb6c9",
    "tags": [],
    "deepnote_to_be_reexecuted": false,
    "source_hash": "a6066778",
    "execution_start": 1651349596233,
    "execution_millis": 948,
    "deepnote_cell_type": "code",
    "deepnote_cell_height": 352.75
   },
   "source": "from sklearn.datasets import load_iris\nfrom sklearn.ensemble import RandomForestClassifier\n\niris_data = load_iris()\nx, y = iris_data[\"data\"], iris_data[\"target\"]\nrf = RandomForestClassifier(n_estimators=500)\nrf.fit(x, y)\n\nfor name, imp in zip(iris_data[\"feature_names\"], rf.feature_importances_):\n    print(name, imp)\n",
   "execution_count": null,
   "outputs": [
    {
     "name": "stdout",
     "text": "sepal length (cm) 0.10754617240159234\nsepal width (cm) 0.02238765237823825\npetal length (cm) 0.4333848534861368\npetal width (cm) 0.4366813217340326\n",
     "output_type": "stream"
    }
   ]
  },
  {
   "cell_type": "markdown",
   "source": "Petal length and petal width are the most important features for this problem! ",
   "metadata": {
    "cell_id": "45ee3a761c374610b6fa856209347978",
    "tags": [],
    "deepnote_cell_type": "markdown",
    "deepnote_cell_height": 52.390625
   }
  },
  {
   "cell_type": "markdown",
   "source": "#### Boosting\n- this technique differs from bagging in terms of how the ensemble works: instead of fitting parallel predictors, the predictors are fitted sequentially\n- famous techniques: *AdaBoost* and *Gradient Boosting* ",
   "metadata": {
    "cell_id": "6fb79ddcf2c84b6193f64c2f10d0c72a",
    "tags": [],
    "deepnote_cell_type": "markdown",
    "deepnote_cell_height": 150.171875
   }
  },
  {
   "cell_type": "markdown",
   "source": "#### Adaboost\n- the main idea is: for each step during learning, the actual predictor tries to learn better the errors made by the predictor in the preceding step\n- after training at each step, the weights associated with each instance is updated so that the instances that were misclassified receives a higher weight, used by the upcoming predictor in the sequence\n- the updated weight for misclassified instance is a product between the instance's weight in the preceding step and the predictor's weight, given by (1 - error_ratio)/error_ratio, where error ration is given by the sum of weights of misclassified instances over the sum of all instances",
   "metadata": {
    "cell_id": "ee7c88a7df004637bc2863a0a5d95a25",
    "tags": [],
    "deepnote_cell_type": "markdown",
    "deepnote_cell_height": 242.734375
   }
  },
  {
   "cell_type": "code",
   "metadata": {
    "cell_id": "9c89c58828d74978b90325399d431f14",
    "tags": [],
    "deepnote_to_be_reexecuted": false,
    "source_hash": "f5c189ff",
    "execution_start": 1651489145983,
    "execution_millis": 1220,
    "deepnote_cell_type": "code",
    "deepnote_cell_height": 153
   },
   "source": "from sklearn.datasets import make_moons\nfrom sklearn.model_selection import train_test_split\n\nX,y = make_moons(n_samples=10000,noise=0.1,random_state=4)\nx_train, x_test, y_train, y_test = train_test_split(X,y,train_size=.7,random_state=42)",
   "execution_count": null,
   "outputs": []
  },
  {
   "cell_type": "code",
   "metadata": {
    "cell_id": "ecf70e8438a84ea1b7884644e5b65b79",
    "tags": [],
    "deepnote_to_be_reexecuted": false,
    "source_hash": "c9a448c9",
    "execution_start": 1651489230104,
    "execution_millis": 1615,
    "deepnote_cell_type": "code",
    "deepnote_cell_height": 263.375
   },
   "source": "from sklearn.ensemble import AdaBoostClassifier\nfrom sklearn.tree import DecisionTreeClassifier\n\nada = AdaBoostClassifier(\n    DecisionTreeClassifier(max_depth=1),n_estimators=200,\n    algorithm='SAMME.R',learning_rate=0.5\n)\nada.fit(x_train, y_train)",
   "execution_count": null,
   "outputs": [
    {
     "output_type": "execute_result",
     "execution_count": 2,
     "data": {
      "text/plain": "AdaBoostClassifier(base_estimator=DecisionTreeClassifier(max_depth=1),\n                   learning_rate=0.5, n_estimators=200)"
     },
     "metadata": {}
    }
   ]
  },
  {
   "cell_type": "markdown",
   "source": "#### Gradient boosting\n- just like Adaboost, it works sequentially and the new predictor tries to correct the preceding predictor\n- what changes: instead of updating the misclassified instances at every iteration, the new predictor works on the residuals made by the preceding predictor",
   "metadata": {
    "cell_id": "f382e6b69a51464a8fc48f41683a324c",
    "tags": [],
    "deepnote_cell_type": "markdown",
    "deepnote_cell_height": 150.171875
   }
  },
  {
   "cell_type": "code",
   "metadata": {
    "cell_id": "db4dd4f5bded4e74ac62d5a39379c56e",
    "tags": [],
    "deepnote_to_be_reexecuted": false,
    "source_hash": "a562fd12",
    "execution_start": 1651490452605,
    "execution_millis": 5,
    "deepnote_cell_type": "code",
    "deepnote_cell_height": 135
   },
   "source": "import numpy as np\nimport matplotlib.pyplot as plt\nX = np.random.randn(100)\ny = 3+X**2 + 0.5*np.random.randn(100)",
   "execution_count": null,
   "outputs": []
  },
  {
   "cell_type": "code",
   "metadata": {
    "cell_id": "423b60dcb3284558ba149b72d6953e8e",
    "tags": [],
    "deepnote_to_be_reexecuted": false,
    "source_hash": "e95501b",
    "execution_start": 1651490453230,
    "execution_millis": 217,
    "deepnote_cell_type": "code",
    "deepnote_cell_height": 399.1875,
    "deepnote_output_heights": [
     null,
     250
    ]
   },
   "source": "plt.scatter(X,y)",
   "execution_count": null,
   "outputs": [
    {
     "output_type": "execute_result",
     "execution_count": 22,
     "data": {
      "text/plain": "<matplotlib.collections.PathCollection at 0x7fa625da5610>"
     },
     "metadata": {}
    },
    {
     "data": {
      "text/plain": "<Figure size 432x288 with 1 Axes>",
      "image/png": "[encoded data removed]"
     },
     "metadata": {
      "needs_background": "light",
      "image/png": {
       "width": 362,
       "height": 248
      }
     },
     "output_type": "display_data"
    }
   ]
  },
  {
   "cell_type": "code",
   "metadata": {
    "cell_id": "998e950cb9844b81a94fca1e48dfaeb3",
    "tags": [],
    "deepnote_to_be_reexecuted": false,
    "source_hash": "80d7b16e",
    "execution_start": 1651490523031,
    "execution_millis": 5,
    "deepnote_cell_type": "code",
    "deepnote_cell_height": 154.1875,
    "deepnote_output_heights": [
     21.1875
    ]
   },
   "source": "from sklearn.ensemble import GradientBoostingRegressor\ngdb = GradientBoostingRegressor(max_depth=2, n_estimators=3, learning_rate=1)\ngdb.fit(X.reshape(-1,1),y)",
   "execution_count": null,
   "outputs": [
    {
     "output_type": "execute_result",
     "execution_count": 31,
     "data": {
      "text/plain": "GradientBoostingRegressor(learning_rate=1, max_depth=2, n_estimators=3)"
     },
     "metadata": {}
    }
   ]
  },
  {
   "cell_type": "markdown",
   "source": "Learning rate corresponds to the amount of trees in the ensemble to fit the training data. If it is set too low, it will be needed more trees, but they will usually generalize better. It is necessary to validate the amount of regularization required, since many predictors might introduce overfitting.",
   "metadata": {
    "cell_id": "570973896e944d7abf177ad3758ad09d",
    "tags": [],
    "deepnote_cell_type": "markdown",
    "deepnote_cell_height": 97.171875
   }
  },
  {
   "cell_type": "code",
   "metadata": {
    "cell_id": "189f8cfa6b4a4a37b55921ea621ddccb",
    "tags": [],
    "deepnote_to_be_reexecuted": false,
    "source_hash": "a6d6efda",
    "execution_start": 1651491460968,
    "execution_millis": 59,
    "deepnote_cell_type": "code",
    "deepnote_cell_height": 352.1875,
    "deepnote_output_heights": [
     21.1875
    ]
   },
   "source": "from sklearn.metrics import mean_squared_error\n\nx_train, x_test, y_train, y_test = train_test_split(X.reshape(-1,1),y)\n\ngdb = GradientBoostingRegressor(max_depth=2, n_estimators=120)\ngdb.fit(x_train, y_train)\n\nerrors = [mean_squared_error(y_test,y_pred) for y_pred in\n          gdb.staged_predict(x_test)]\n\nbest_n_estimator = np.argmin(errors) + 1\n\ngdb_best = GradientBoostingRegressor(max_depth=2, n_estimators=best_n_estimator)\ngdb_best.fit(x_train, y_train)",
   "execution_count": null,
   "outputs": [
    {
     "output_type": "execute_result",
     "execution_count": 42,
     "data": {
      "text/plain": "GradientBoostingRegressor(max_depth=2, n_estimators=63)"
     },
     "metadata": {}
    }
   ]
  },
  {
   "cell_type": "code",
   "metadata": {
    "cell_id": "e9fc60be0fad4d5c958db73ecf9b66f3",
    "tags": [],
    "deepnote_to_be_reexecuted": false,
    "source_hash": "f510560",
    "execution_start": 1651492136002,
    "execution_millis": 319,
    "deepnote_cell_type": "code",
    "deepnote_cell_height": 469.1875,
    "deepnote_output_heights": [
     21.1875,
     266
    ]
   },
   "source": "plt.plot(np.arange(1,121),errors)\nplt.hlines(min(errors),1,121,linestyles='--')\nplt.vlines(best_n_estimator,0,min(errors),linestyles='--')\nplt.title('Validation error')",
   "execution_count": null,
   "outputs": [
    {
     "output_type": "execute_result",
     "execution_count": 58,
     "data": {
      "text/plain": "Text(0.5, 1.0, 'Validation error')"
     },
     "metadata": {}
    },
    {
     "data": {
      "text/plain": "<Figure size 432x288 with 1 Axes>",
      "image/png": "[encoded data removed]"
     },
     "metadata": {
      "needs_background": "light",
      "image/png": {
       "width": 372,
       "height": 264
      }
     },
     "output_type": "display_data"
    }
   ]
  },
  {
   "cell_type": "markdown",
   "source": "#### Stacking\n- this technique has an unique aspect: instead of making predictions using hard voting technique for example, we create a model to do the aggregation, called *blender*\n- the steps are as follows:\n    - split the training set into two parts (say part 1 and part 2)\n    - train different models using part 1\n    - apply these models to part 2 (never seen during training)\n    - for each instance on part 2, there are n prediction (where n is the number of predictors used)\n    - create a new training set with n-dimensions plus the original target\n        - this way, the blender will know how to make predictions for an instance using the predictions from different models\n    - train the blender\n    - once we have a new instance, apply the stacking",
   "metadata": {
    "cell_id": "04845ed8dd9d43fd97aab72d8c7d53b0",
    "tags": [],
    "deepnote_cell_type": "markdown",
    "deepnote_cell_height": 386.6875
   }
  },
  {
   "cell_type": "markdown",
   "source": "![Picture title](image-20220503-080309.png)\nExtracted from: https://vatsalparsaniya.github.io/ML_Knowledge/Stacking/README.html",
   "metadata": {
    "cell_id": "dcd396477f4843b3b0d4055f5c769431",
    "tags": [],
    "deepnote_cell_type": "markdown",
    "deepnote_cell_height": 652.9375
   }
  },
  {
   "cell_type": "markdown",
   "source": "Stacking is not directly implemented by Scikit-learn, but the steps can be effortlessly done!",
   "metadata": {
    "cell_id": "9d7f3646e35049a38a8017f71917c3a0",
    "tags": [],
    "owner_user_id": "84d099f7-8557-4d5b-83f6-27e0e8a38761",
    "deepnote_cell_type": "markdown",
    "deepnote_cell_height": 52.390625
   }
  },
  {
   "cell_type": "markdown",
   "source": "<a style='text-decoration:none;line-height:16px;display:flex;color:#5B5B62;padding:10px;justify-content:end;' href='https://deepnote.com?utm_source=created-in-deepnote-cell&projectId=2b7eb737-18d4-4683-a9e5-3ea902dd423b' target=\"_blank\">\n<img alt='Created in deepnote.com' style='display:inline;max-height:16px;margin:0px;margin-right:7.5px;' src='data:image/svg+xml;base64,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' > </img>\nCreated in <span style='font-weight:600;margin-left:4px;'>Deepnote</span></a>",
   "metadata": {
    "tags": [],
    "created_in_deepnote_cell": true,
    "deepnote_cell_type": "markdown"
   }
  }
 ],
 "nbformat": 4,
 "nbformat_minor": 2,
 "metadata": {
  "orig_nbformat": 2,
  "deepnote": {},
  "deepnote_notebook_id": "0a4a5f8a-5ade-4bdc-8ed0-2a1eea568d46",
  "deepnote_execution_queue": []
 }
}