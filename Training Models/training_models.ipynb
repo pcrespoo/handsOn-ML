{
 "cells": [
  {
   "cell_type": "markdown",
   "source": "### Training a Linear Regression - using the closed-form",
   "metadata": {
    "cell_id": "98b64be58a7a43aa88a0ccf469c962cd",
    "tags": [],
    "deepnote_cell_type": "markdown",
    "deepnote_cell_height": 62
   }
  },
  {
   "cell_type": "code",
   "metadata": {
    "tags": [],
    "cell_id": "56392054-7e07-4af3-9ef5-38d3fbc70946",
    "deepnote_to_be_reexecuted": false,
    "source_hash": "a3821d0e",
    "execution_start": 1649615473791,
    "execution_millis": 2468,
    "deepnote_cell_type": "code",
    "deepnote_cell_height": 557.1875,
    "deepnote_output_heights": [
     21.1875,
     264
    ]
   },
   "source": "import numpy as np\nimport matplotlib.pyplot as plt\n\nX = 2 * np.random.rand(100,1)\ny = 4 + 3 * X + np.random.randn(100,1) #y = 4 + 3x + noise\n\nplt.scatter(X,y)\nplt.xlabel('X')\nplt.ylabel('Y')",
   "execution_count": null,
   "outputs": [
    {
     "output_type": "execute_result",
     "execution_count": 1,
     "data": {
      "text/plain": "Text(0, 0.5, 'Y')"
     },
     "metadata": {}
    },
    {
     "data": {
      "text/plain": "<Figure size 432x288 with 1 Axes>",
      "image/png": "[encoded data removed]"
     },
     "metadata": {
      "needs_background": "light",
      "image/png": {
       "width": 382,
       "height": 262
      }
     },
     "output_type": "display_data"
    }
   ]
  },
  {
   "cell_type": "markdown",
   "source": "#### Using the normal equation\n",
   "metadata": {
    "cell_id": "d834fcc8d00147b587117c444d3d6436",
    "tags": [],
    "deepnote_cell_type": "markdown",
    "deepnote_cell_height": 54
   }
  },
  {
   "cell_type": "code",
   "metadata": {
    "cell_id": "2f1624fc345c4c908321a1bb7262603d",
    "tags": [],
    "deepnote_to_be_reexecuted": false,
    "source_hash": "db87032e",
    "execution_start": 1649615478702,
    "execution_millis": 16,
    "deepnote_cell_type": "code",
    "deepnote_cell_height": 168.375
   },
   "source": "X_b = np.c_[np.ones((100,1)),X] #add x0=1 to take the intercept into consideration\ntheta_hat = np.linalg.inv(np.transpose(X_b).dot(X_b)).dot(np.transpose(X_b)).dot(y)\nprint('Theta Hat: ',theta_hat)",
   "execution_count": null,
   "outputs": [
    {
     "name": "stdout",
     "text": "Theta Hat:  [[4.0979248 ]\n [2.80057606]]\n",
     "output_type": "stream"
    }
   ]
  },
  {
   "cell_type": "code",
   "metadata": {
    "cell_id": "98e90d76f4364a858ce6a59b567b5204",
    "tags": [],
    "deepnote_to_be_reexecuted": false,
    "source_hash": "788aa4b8",
    "execution_start": 1649615479493,
    "execution_millis": 439,
    "deepnote_cell_type": "code",
    "deepnote_cell_height": 209.375,
    "deepnote_output_heights": [
     40.375
    ]
   },
   "source": "#new prediction\nX_new = np.array([[0],[2]])\nX_new_b = np.c_[np.ones((2,1)),X_new]\npred = X_new_b.dot(theta_hat)\npred",
   "execution_count": null,
   "outputs": [
    {
     "output_type": "execute_result",
     "execution_count": 3,
     "data": {
      "text/plain": "array([[4.0979248 ],\n       [9.69907692]])"
     },
     "metadata": {}
    }
   ]
  },
  {
   "cell_type": "code",
   "metadata": {
    "cell_id": "e2c016a0438a4e9cb2b6aa58543fc150",
    "tags": [],
    "deepnote_to_be_reexecuted": false,
    "source_hash": "761b636a",
    "execution_start": 1649615480513,
    "execution_millis": 292,
    "deepnote_cell_type": "code",
    "deepnote_cell_height": 721.1875,
    "deepnote_output_heights": [
     21.1875,
     482
    ]
   },
   "source": "plt.figure(figsize=(10,8))\nplt.scatter(X,y)\nplt.plot(X_new,pred,'r-')\nplt.xlabel('X')\nplt.ylabel('Y')\nplt.axis([0,2,0,15])",
   "execution_count": null,
   "outputs": [
    {
     "output_type": "execute_result",
     "execution_count": 4,
     "data": {
      "text/plain": "(0.0, 2.0, 0.0, 15.0)"
     },
     "metadata": {}
    },
    {
     "data": {
      "text/plain": "<Figure size 720x576 with 1 Axes>",
      "image/png": "[encoded data removed]"
     },
     "metadata": {
      "needs_background": "light",
      "image/png": {
       "width": 617,
       "height": 480
      }
     },
     "output_type": "display_data"
    }
   ]
  },
  {
   "cell_type": "markdown",
   "source": "#### Using Scikit-learn",
   "metadata": {
    "cell_id": "b3b978bc69804ffb8fc17ab1ded3da96",
    "tags": [],
    "deepnote_cell_type": "markdown",
    "deepnote_cell_height": 54
   }
  },
  {
   "cell_type": "code",
   "metadata": {
    "cell_id": "b55e20ca468d4439be3b16262a57bb00",
    "tags": [],
    "deepnote_to_be_reexecuted": false,
    "source_hash": "6e67d810",
    "execution_start": 1649615483155,
    "execution_millis": 1055,
    "deepnote_cell_type": "code",
    "deepnote_cell_height": 166.1875
   },
   "source": "from sklearn.linear_model import LinearRegression\nlr = LinearRegression()\nlr.fit(X,y)\nprint('Coefficients:',lr.coef_, lr.intercept_)",
   "execution_count": null,
   "outputs": [
    {
     "name": "stdout",
     "text": "Coefficients: [[2.80057606]] [4.0979248]\n",
     "output_type": "stream"
    }
   ]
  },
  {
   "cell_type": "code",
   "metadata": {
    "cell_id": "5e221cf76a914713bcf756182c40dbbd",
    "tags": [],
    "deepnote_to_be_reexecuted": false,
    "source_hash": "7ff354d6",
    "execution_start": 1649615485347,
    "execution_millis": 4,
    "deepnote_cell_type": "code",
    "deepnote_cell_height": 137.375,
    "deepnote_output_heights": [
     40.375
    ]
   },
   "source": "lr.predict(X_new)",
   "execution_count": null,
   "outputs": [
    {
     "output_type": "execute_result",
     "execution_count": 6,
     "data": {
      "text/plain": "array([[4.0979248 ],\n       [9.69907692]])"
     },
     "metadata": {}
    }
   ]
  },
  {
   "cell_type": "markdown",
   "source": "### Training a linear regression  - using Gradient Descent\n- optimization technique much faster than Normal Equation or SVD decomposition\n- this technique is highly affected by the features scales... high-scaled features makes the cost function abruptly decay, however small-scaled features makes this decay almost flat, making the convergence slow. \n    - It is very important to scale features when we know in advance that Gradient Descent will be used!\n- Gradient is a vector containing the partial derivatives of the cost function with regard to every model parameter!\n",
   "metadata": {
    "cell_id": "737adb7daa1e45f599929ff7cd8dedda",
    "tags": [],
    "deepnote_cell_type": "markdown",
    "deepnote_cell_height": 223.953125
   }
  },
  {
   "cell_type": "markdown",
   "source": "#### Batch Gradient Descent\n- Uses the whole training data set during optimization procedure",
   "metadata": {
    "cell_id": "2d900751e4d2474395aa9c92138fafff",
    "tags": [],
    "deepnote_cell_type": "markdown",
    "deepnote_cell_height": 102.390625
   }
  },
  {
   "cell_type": "code",
   "metadata": {
    "cell_id": "726d23ed0b744068a8ddab2d119a3528",
    "tags": [],
    "deepnote_to_be_reexecuted": false,
    "source_hash": "f118b878",
    "execution_start": 1649615488128,
    "execution_millis": 16,
    "deepnote_cell_type": "code",
    "deepnote_cell_height": 384.375
   },
   "source": "import numpy as np\nlearning_rate = 0.1\nn_iterations = 1000\nm = 100\n\ntheta = np.random.rand(2,1)\nX = 2 * np.random.rand(100,1)\ny = 4 + 3 * X + np.random.randn(100,1)\nX_b = np.c_[np.ones((100,1)),X] #add x0=1 to take the intercept into consideration\n\nfor iteration in range(n_iterations):\n    gradient = (2/m)*X_b.T.dot(X_b.dot(theta) - y)\n    theta = theta - learning_rate*gradient\n\nprint('Optimum Theta:',theta)",
   "execution_count": null,
   "outputs": [
    {
     "name": "stdout",
     "text": "Optimum Theta: [[3.81207615]\n [3.01494449]]\n",
     "output_type": "stream"
    }
   ]
  },
  {
   "cell_type": "markdown",
   "source": "#### Stochastic Gradient Descent\n- uses only one instance per step and this makes the process much faster than Batch GD\n- due to its random nature, this technique is prone to more oscillations, so that we can find good minimum, but not optimal, as Batch Gradient Descent\n- learning schedule: the function that reduces the learning rate as we move forward on the steps in order to minimize the effect of the oscillations",
   "metadata": {
    "cell_id": "d13b5c11fb8b4bacafe90728e99c7e1d",
    "tags": [],
    "deepnote_cell_type": "markdown",
    "deepnote_cell_height": 197.953125
   }
  },
  {
   "cell_type": "code",
   "metadata": {
    "cell_id": "81ada5eb544941fb9df13fce8e28cede",
    "tags": [],
    "deepnote_to_be_reexecuted": false,
    "source_hash": "804ad466",
    "execution_start": 1649615493717,
    "execution_millis": 95,
    "deepnote_cell_type": "code",
    "deepnote_cell_height": 438.375
   },
   "source": "n_epochs = 50\nt0,t1 = 5,50\n\ndef learning_schedule(t):\n    return t0/(t+t1)\n\ntheta = np.random.randn(2,1)\n\nfor epoch in range(n_epochs): #each epoch is formed by rounds of m iterations\n    for i in range(m):\n        random_index = np.random.randint(m)\n        xi = X_b[random_index:random_index+1]\n        yi = y[random_index:random_index+1]\n        gradients = 2*xi.T.dot(xi.dot(theta) - yi)\n        learning_rate = learning_schedule(epoch*m + i)\n        theta = theta - learning_rate*gradients\n\nprint(theta)",
   "execution_count": null,
   "outputs": [
    {
     "name": "stdout",
     "text": "[[3.80570162]\n [3.00260441]]\n",
     "output_type": "stream"
    }
   ]
  },
  {
   "cell_type": "code",
   "metadata": {
    "cell_id": "a1415f53e87841dc8143d1829860f436",
    "tags": [],
    "deepnote_to_be_reexecuted": false,
    "source_hash": "62c3446a",
    "execution_start": 1649615502946,
    "execution_millis": 7,
    "deepnote_cell_type": "code",
    "deepnote_cell_height": 238.1875
   },
   "source": "#implementation using scikit-learn\nfrom sklearn.linear_model import SGDRegressor\nsgd_reg = SGDRegressor(max_iter=1000,\n                       tol=1e-3,\n                       penalty=None,\n                       eta0=0.1)\nsgd_reg.fit(X,y.ravel())\nprint(sgd_reg.intercept_, sgd_reg.coef_)",
   "execution_count": null,
   "outputs": [
    {
     "name": "stdout",
     "text": "[3.86437452] [3.07564617]\n",
     "output_type": "stream"
    }
   ]
  },
  {
   "cell_type": "markdown",
   "source": "### Polynomial Regression",
   "metadata": {
    "cell_id": "1dc1d2f04777480a95d6c70529580b6e",
    "tags": [],
    "deepnote_cell_type": "markdown",
    "deepnote_cell_height": 62
   }
  },
  {
   "cell_type": "code",
   "metadata": {
    "cell_id": "8270cda994444c56845609846227636e",
    "tags": [],
    "deepnote_to_be_reexecuted": false,
    "source_hash": "1f6113a",
    "execution_start": 1649622181312,
    "execution_millis": 1,
    "deepnote_cell_type": "code",
    "deepnote_cell_height": 117
   },
   "source": "m = 100\nX = 6 * np.random.rand(m,1) - 3\ny = 0.5*X**2 + X + 2 + np.random.randn(m,1)",
   "execution_count": null,
   "outputs": []
  },
  {
   "cell_type": "code",
   "metadata": {
    "cell_id": "de9bfcfdcecf40309735644f11ae2048",
    "tags": [],
    "deepnote_to_be_reexecuted": false,
    "source_hash": "404adf8a",
    "execution_start": 1649622183059,
    "execution_millis": 220,
    "deepnote_cell_type": "code",
    "deepnote_cell_height": 635.1875,
    "deepnote_output_heights": [
     21.1875,
     468
    ]
   },
   "source": "plt.figure(figsize=(10,8))\nplt.scatter(X,y)",
   "execution_count": null,
   "outputs": [
    {
     "output_type": "execute_result",
     "execution_count": 38,
     "data": {
      "text/plain": "<matplotlib.collections.PathCollection at 0x7fe38356a9d0>"
     },
     "metadata": {}
    },
    {
     "data": {
      "text/plain": "<Figure size 720x576 with 1 Axes>",
      "image/png": "[encoded data removed]"
     },
     "metadata": {
      "needs_background": "light",
      "image/png": {
       "width": 592,
       "height": 466
      }
     },
     "output_type": "display_data"
    }
   ]
  },
  {
   "cell_type": "code",
   "metadata": {
    "cell_id": "6dfc7e7c03974ee1baf64466ecd9db50",
    "tags": [],
    "deepnote_to_be_reexecuted": false,
    "source_hash": "edcb2b08",
    "execution_start": 1649622183325,
    "execution_millis": 4,
    "deepnote_cell_type": "code",
    "deepnote_cell_height": 222.375
   },
   "source": "#add non-linear terms to X\nfrom sklearn.preprocessing import PolynomialFeatures\npoly = PolynomialFeatures(degree=2, include_bias=False)\nX_poly = poly.fit_transform(X)\nprint(X[0])\nprint(X_poly[0])",
   "execution_count": null,
   "outputs": [
    {
     "name": "stdout",
     "text": "[2.51479534]\n[2.51479534 6.32419561]\n",
     "output_type": "stream"
    }
   ]
  },
  {
   "cell_type": "code",
   "metadata": {
    "cell_id": "6acbda2eec6b41229a4de6673091f62f",
    "tags": [],
    "deepnote_to_be_reexecuted": false,
    "source_hash": "cb2e2e96",
    "execution_start": 1649622183326,
    "execution_millis": 3,
    "deepnote_cell_type": "code",
    "deepnote_cell_height": 166.1875
   },
   "source": "from sklearn.linear_model import LinearRegression\nlr = LinearRegression()\nlr.fit(X_poly,y)\nprint(lr.intercept_, lr.coef_) #estimated coefs and intercept similar to the original y",
   "execution_count": null,
   "outputs": [
    {
     "name": "stdout",
     "text": "[1.95441799] [[0.97037971 0.5163717 ]]\n",
     "output_type": "stream"
    }
   ]
  },
  {
   "cell_type": "code",
   "metadata": {
    "cell_id": "855d70788ce54c4694b728db58fd9623",
    "tags": [],
    "deepnote_to_be_reexecuted": false,
    "source_hash": "872b3ab7",
    "execution_start": 1649622183326,
    "execution_millis": 216,
    "deepnote_cell_type": "code",
    "deepnote_cell_height": 671.1875,
    "deepnote_output_heights": [
     21.1875,
     468
    ]
   },
   "source": "plt.figure(figsize=(10,8))\nplt.scatter(X,y)\nplt.plot(np.arange(-3,4).reshape(-1,1), lr.predict(poly.fit_transform(np.arange(-3,4).reshape(-1,1))),\n        'r-')",
   "execution_count": null,
   "outputs": [
    {
     "output_type": "execute_result",
     "execution_count": 41,
     "data": {
      "text/plain": "[<matplotlib.lines.Line2D at 0x7fe3833590d0>]"
     },
     "metadata": {}
    },
    {
     "data": {
      "text/plain": "<Figure size 720x576 with 1 Axes>",
      "image/png": "[encoded data removed]"
     },
     "metadata": {
      "needs_background": "light",
      "image/png": {
       "width": 592,
       "height": 466
      }
     },
     "output_type": "display_data"
    }
   ]
  },
  {
   "cell_type": "markdown",
   "source": "### Learning curves\n- it corresponds to an approach to verify overfitting or underfitting profiles, where we plot the errors on the training and validation sets as a function of the size of training set used",
   "metadata": {
    "cell_id": "194b5a15c0cc48c8ae1f4ae8a59b147d",
    "tags": [],
    "deepnote_cell_type": "markdown",
    "deepnote_cell_height": 136.78125
   }
  },
  {
   "cell_type": "code",
   "metadata": {
    "cell_id": "d98c12f2b38e43e6aca1288a0c9ad621",
    "tags": [],
    "deepnote_to_be_reexecuted": false,
    "source_hash": "1b3d7b2b",
    "execution_start": 1649622185442,
    "execution_millis": 338,
    "deepnote_cell_type": "code",
    "deepnote_cell_height": 941.1875,
    "deepnote_output_heights": [
     21.1875,
     468
    ]
   },
   "source": "from sklearn.metrics import mean_squared_error\nfrom sklearn.model_selection import train_test_split\n\nx_train, x_val, y_train, y_val = train_test_split(X,y,random_state=42, test_size=.2)\ntrain_error_list, val_error_list = [],[]\nfor n in range(1,len(x_train)):\n    lr = LinearRegression()\n    lr.fit(x_train[:n],y_train[:n])\n    preds_train = lr.predict(x_train[:n])\n    preds_val = lr.predict(x_val)\n    error_train = mean_squared_error(y_train[:n],preds_train)\n    error_val = mean_squared_error(y_val,preds_val)\n    train_error_list.append(error_train)\n    val_error_list.append(error_val)\n\nplt.figure(figsize=(10,8))\nplt.plot(np.sqrt(train_error_list),'r-',label='train')\nplt.plot(np.sqrt(val_error_list),'b-',label='val')\nplt.legend()",
   "execution_count": null,
   "outputs": [
    {
     "output_type": "execute_result",
     "execution_count": 42,
     "data": {
      "text/plain": "<matplotlib.legend.Legend at 0x7fe38333bdd0>"
     },
     "metadata": {}
    },
    {
     "data": {
      "text/plain": "<Figure size 720x576 with 1 Axes>",
      "image/png": "[encoded data removed]"
     },
     "metadata": {
      "needs_background": "light",
      "image/png": {
       "width": 595,
       "height": 466
      }
     },
     "output_type": "display_data"
    }
   ]
  },
  {
   "cell_type": "code",
   "metadata": {
    "cell_id": "d478e4b97bfa4549aa0003055e70cc08",
    "tags": [],
    "deepnote_to_be_reexecuted": false,
    "source_hash": "1b3d2c20",
    "execution_start": 1649622185787,
    "execution_millis": 6,
    "deepnote_cell_type": "code",
    "deepnote_cell_height": 405
   },
   "source": "from sklearn.metrics import mean_squared_error\nfrom sklearn.model_selection import train_test_split\ndef plot_learning_curves(model, X, y):\n    x_train, x_val, y_train, y_val = train_test_split(X,y,random_state=42, test_size=.2)\n    train_error_list, val_error_list = [],[]\n    for n in range(1,len(x_train)):\n        model.fit(x_train[:n],y_train[:n])\n        preds_train = model.predict(x_train[:n])\n        preds_val = model.predict(x_val)\n        error_train = mean_squared_error(y_train[:n],preds_train)\n        error_val = mean_squared_error(y_val,preds_val)\n        train_error_list.append(error_train)\n        val_error_list.append(error_val)\n    plt.figure(figsize=(10,8))\n    plt.plot(np.sqrt(train_error_list),'r-',label='train')\n    plt.plot(np.sqrt(val_error_list),'b-',label='val')\n    plt.xlabel('Training size')\n    plt.ylabel('RMSE')\n    plt.legend()",
   "execution_count": null,
   "outputs": []
  },
  {
   "cell_type": "code",
   "metadata": {
    "cell_id": "2d610c98b19943d9952a85eb25d6f872",
    "tags": [],
    "deepnote_to_be_reexecuted": false,
    "source_hash": "aab0cb33",
    "execution_start": 1649622185796,
    "execution_millis": 339,
    "deepnote_cell_type": "code",
    "deepnote_cell_height": 723,
    "deepnote_output_heights": [
     482
    ]
   },
   "source": "#example of balanced model\nfrom sklearn.pipeline import Pipeline\n\npipe = Pipeline([\n    ('poly',PolynomialFeatures(degree=2,include_bias=False)),\n    ('lr',LinearRegression())\n])\n\nplot_learning_curves(pipe,X,y)",
   "execution_count": null,
   "outputs": [
    {
     "data": {
      "text/plain": "<Figure size 720x576 with 1 Axes>",
      "image/png": "[encoded data removed]"
     },
     "metadata": {
      "needs_background": "light",
      "image/png": {
       "width": 599,
       "height": 480
      }
     },
     "output_type": "display_data"
    }
   ]
  },
  {
   "cell_type": "code",
   "metadata": {
    "cell_id": "5cd5e7b8f8a2432ab540ffa5c689a2d2",
    "tags": [],
    "deepnote_to_be_reexecuted": false,
    "source_hash": "7397ad36",
    "execution_start": 1649622186144,
    "execution_millis": 370,
    "deepnote_cell_type": "code",
    "deepnote_cell_height": 724,
    "deepnote_output_heights": [
     483
    ]
   },
   "source": "#example of overfitting model\nfrom sklearn.pipeline import Pipeline\n\npipe = Pipeline([\n    ('poly',PolynomialFeatures(degree=8,include_bias=False)),\n    ('lr',LinearRegression())\n])\n\nplot_learning_curves(pipe,X,y)",
   "execution_count": null,
   "outputs": [
    {
     "data": {
      "text/plain": "<Figure size 720x576 with 1 Axes>",
      "image/png": "[encoded data removed]"
     },
     "metadata": {
      "needs_background": "light",
      "image/png": {
       "width": 612,
       "height": 481
      }
     },
     "output_type": "display_data"
    }
   ]
  },
  {
   "cell_type": "markdown",
   "source": "### Regularization techniques  - Linear Models\n- regularization in linear models means constraining the weights\n- Types: Ridge, Lasso and ElasticNet",
   "metadata": {
    "cell_id": "97a2c7e710c54b4583869c1ae456a15f",
    "tags": [],
    "deepnote_cell_type": "markdown",
    "deepnote_cell_height": 139.78125
   }
  },
  {
   "cell_type": "markdown",
   "source": "#### Ridge\n- it adds a regularization term to the cost function (e.g MSE) in order to keep the weights as small as possible\n- term = 1/2 * alpha * summation (theta_i)^2, \n    - where i ranges from 1 to n, where n is the number of features\n- the smaller the alpha is, the less regularized the model becomes\n- a large alpha means that all coefficients are nearly zero and the model is basically a straight line at the mean value ",
   "metadata": {
    "cell_id": "a5d388babbcd49c4be26010bf8ca58aa",
    "tags": [],
    "deepnote_cell_type": "markdown",
    "deepnote_cell_height": 214.953125
   }
  },
  {
   "cell_type": "code",
   "metadata": {
    "cell_id": "fa4b62f0105746d5b24946748ead64ac",
    "tags": [],
    "deepnote_to_be_reexecuted": false,
    "source_hash": "a314c698",
    "execution_start": 1649624518368,
    "execution_millis": 11,
    "deepnote_cell_type": "code",
    "deepnote_cell_height": 190.1875,
    "deepnote_output_heights": [
     21.1875
    ]
   },
   "source": "#closed form-solution\nfrom sklearn.linear_model import Ridge\nridge_reg = Ridge(alpha=1, solver='cholesky')\nridge_reg.fit(X,y)\nridge_reg.predict([[1.5]])",
   "execution_count": null,
   "outputs": [
    {
     "output_type": "execute_result",
     "execution_count": 46,
     "data": {
      "text/plain": "array([[5.3405605]])"
     },
     "metadata": {}
    }
   ]
  },
  {
   "cell_type": "code",
   "metadata": {
    "cell_id": "f4f24ed3d4074f0d8d38e877dc76a513",
    "tags": [],
    "deepnote_to_be_reexecuted": false,
    "source_hash": "fb4a87aa",
    "execution_start": 1649624665991,
    "execution_millis": 5,
    "deepnote_cell_type": "code",
    "deepnote_cell_height": 190.1875,
    "deepnote_output_heights": [
     21.1875
    ]
   },
   "source": "#using gradient descent\nfrom sklearn.linear_model import SGDRegressor\nsgd_reg = SGDRegressor(penalty='l2') #applies Ridge regularization\nsgd_reg.fit(X,y.ravel())\nsgd_reg.predict([[1.5]])",
   "execution_count": null,
   "outputs": [
    {
     "output_type": "execute_result",
     "execution_count": 50,
     "data": {
      "text/plain": "array([5.31786481])"
     },
     "metadata": {}
    }
   ]
  },
  {
   "cell_type": "markdown",
   "source": "#### Lasso\n\n- it adds a regularization term to the cost function (e.g MSE) in order to keep the weights as small as possible\n- term = alpha * summation (abs[(theta_i)]), \n    - where i ranges from 1 to n, where n is the number of features\n- a unique feature of Lasso regularization technique is that it can set some coefficients to zero (these cofficients correspond to least important features)",
   "metadata": {
    "cell_id": "dbf18d26cc794170a562ec862947d275",
    "tags": [],
    "deepnote_cell_type": "markdown",
    "deepnote_cell_height": 211.953125
   }
  },
  {
   "cell_type": "code",
   "metadata": {
    "cell_id": "2748a13589ec490ea4d76cfefa48258d",
    "tags": [],
    "deepnote_to_be_reexecuted": false,
    "source_hash": "6c345369",
    "execution_start": 1649626727308,
    "execution_millis": 7,
    "deepnote_cell_type": "code",
    "deepnote_cell_height": 190.1875,
    "deepnote_output_heights": [
     21.1875
    ]
   },
   "source": "#closed form-solution\nfrom sklearn.linear_model import Lasso\nlasso_reg = Lasso(alpha=.1)\nlasso_reg.fit(X,y)\nlasso_reg.predict([[1.5]])",
   "execution_count": null,
   "outputs": [
    {
     "output_type": "execute_result",
     "execution_count": 52,
     "data": {
      "text/plain": "array([5.30130578])"
     },
     "metadata": {}
    }
   ]
  },
  {
   "cell_type": "code",
   "metadata": {
    "cell_id": "801306229ec241e88a6287b98d5690fd",
    "tags": [],
    "deepnote_to_be_reexecuted": false,
    "source_hash": "2f9dcdf3",
    "execution_start": 1649626779538,
    "execution_millis": 7,
    "deepnote_cell_type": "code",
    "deepnote_cell_height": 172.1875,
    "deepnote_output_heights": [
     21.1875
    ]
   },
   "source": "from sklearn.linear_model import SGDRegressor\nsgd_reg = SGDRegressor(penalty='l1')\nsgd_reg.fit(X,y.ravel())\nsgd_reg.predict([[1.5]])",
   "execution_count": null,
   "outputs": [
    {
     "output_type": "execute_result",
     "execution_count": 54,
     "data": {
      "text/plain": "array([5.33952409])"
     },
     "metadata": {}
    }
   ]
  },
  {
   "cell_type": "markdown",
   "source": "#### Elastic Net\n- this technique is a mix of Ridge and Lasso, since it can have both effects , depending on the mix ratio. If ratio = 0, then we only have influence of Ridge regularization. If ratio = 1, then we only have influence of Lasso.\n\n- Elastic Net performs better than Lasso if we have more features that training instance or if the features are highly correlated",
   "metadata": {
    "cell_id": "98a663618fd14065a2005ef21850866a",
    "tags": [],
    "deepnote_cell_type": "markdown",
    "deepnote_cell_height": 150.171875
   }
  },
  {
   "cell_type": "code",
   "metadata": {
    "cell_id": "f2695a9ab2bf4475b71231d0873962a9",
    "tags": [],
    "deepnote_to_be_reexecuted": false,
    "source_hash": "9b4586f7",
    "execution_start": 1649627154326,
    "execution_millis": 4,
    "deepnote_cell_type": "code",
    "deepnote_cell_height": 172.1875,
    "deepnote_output_heights": [
     21.1875
    ]
   },
   "source": "from sklearn.linear_model import ElasticNet\nelastic_net = ElasticNet(alpha=0.1, l1_ratio=0.5)\nelastic_net.fit(X,y)\nelastic_net.predict([[1.5]])",
   "execution_count": null,
   "outputs": [
    {
     "output_type": "execute_result",
     "execution_count": 55,
     "data": {
      "text/plain": "array([5.29715782])"
     },
     "metadata": {}
    }
   ]
  },
  {
   "cell_type": "markdown",
   "source": "### Early Stopping\n\n- It aims to monitor the training and validation errors such that when the validation error starts increasing after a successive decreasing, it is a sign to stop the training procedure and use the model parameters just before the error increase.",
   "metadata": {
    "cell_id": "b7e921feb8494d3d87dab2b22d0a4ef3",
    "tags": [],
    "deepnote_cell_type": "markdown",
    "deepnote_cell_height": 136.78125
   }
  },
  {
   "cell_type": "markdown",
   "source": "### Logistic Regression\n- it is a classic model for classification tasks\n- it is called 'regression' due to the fact that it is a weighted sum of the input features, where the weights are the coefficients plus the bias term (just like a Linear Regression)\n- the main difference here is that the output is a probability instead of a continous value\n- the probability is obtained by applying the logistic function (a sigmoid function) to the weighted sum\n- once we have the probability, we are able to classify each instance based on a desired threshold (e.g 0.5)\n    - if p >= 0.5, then y = 1, else y = 0\n\n- the cost function is called log loss\n    - it can be optimized using Gradient Descent and because it is a convex function, we will find the global optimum if we choose an appropriate learning rate and wait long enough",
   "metadata": {
    "cell_id": "22977a0e9f3a49848030be9ae83d24f2",
    "tags": [],
    "deepnote_cell_type": "markdown",
    "deepnote_cell_height": 369.90625
   }
  },
  {
   "cell_type": "code",
   "metadata": {
    "cell_id": "a5d0d11cb9284c5387a7b07f34b9119a",
    "tags": [],
    "deepnote_to_be_reexecuted": false,
    "source_hash": "ef1baf5a",
    "execution_start": 1649674717511,
    "execution_millis": 33,
    "deepnote_cell_type": "code",
    "deepnote_cell_height": 154.1875,
    "deepnote_output_heights": [
     21.1875
    ]
   },
   "source": "from sklearn.datasets import load_iris\niris = load_iris()\niris.keys()",
   "execution_count": null,
   "outputs": [
    {
     "output_type": "execute_result",
     "execution_count": 1,
     "data": {
      "text/plain": "dict_keys(['data', 'target', 'frame', 'target_names', 'DESCR', 'feature_names', 'filename', 'data_module'])"
     },
     "metadata": {}
    }
   ]
  },
  {
   "cell_type": "code",
   "metadata": {
    "cell_id": "4ac3bd5e5b4f4a28902c05c72c24c6fc",
    "tags": [],
    "deepnote_to_be_reexecuted": false,
    "source_hash": "dcaf7e60",
    "execution_start": 1649674841554,
    "execution_millis": 2,
    "deepnote_cell_type": "code",
    "deepnote_cell_height": 99
   },
   "source": "X = iris['data'][:,3:] #petal_width\ny = (iris['target'] == 2).astype('int64')",
   "execution_count": null,
   "outputs": []
  },
  {
   "cell_type": "code",
   "metadata": {
    "cell_id": "51f83d7cac3b4b749c553f1129359822",
    "tags": [],
    "deepnote_to_be_reexecuted": false,
    "source_hash": "df59491",
    "execution_start": 1649674928731,
    "execution_millis": 409,
    "deepnote_cell_type": "code",
    "deepnote_cell_height": 154.1875,
    "deepnote_output_heights": [
     21.1875
    ]
   },
   "source": "from sklearn.linear_model import LogisticRegression\nlog_reg = LogisticRegression()\nlog_reg.fit(X,y)",
   "execution_count": null,
   "outputs": [
    {
     "output_type": "execute_result",
     "execution_count": 9,
     "data": {
      "text/plain": "LogisticRegression()"
     },
     "metadata": {}
    }
   ]
  },
  {
   "cell_type": "code",
   "metadata": {
    "cell_id": "86f5d6284c1b4e41a8707bcb80ad7ed5",
    "tags": [],
    "deepnote_to_be_reexecuted": false,
    "source_hash": "dd3a47c3",
    "execution_start": 1649675462000,
    "execution_millis": 272,
    "deepnote_cell_type": "code",
    "deepnote_cell_height": 539.1875,
    "deepnote_output_heights": [
     21.1875,
     264
    ]
   },
   "source": "import matplotlib.pyplot as plt\nX_new = np.linspace(0,3,1000).reshape(-1,1)\npreds = log_reg.predict_proba(X_new)\nplt.plot(X_new,preds[:,1],'g-',label='Iris Virginica')\nplt.plot(X_new,preds[:,0],'r--',label='Not Iris Virginica')\nplt.xlabel('Petal Width')\nplt.ylabel('Probability')\nplt.legend()",
   "execution_count": null,
   "outputs": [
    {
     "output_type": "execute_result",
     "execution_count": 13,
     "data": {
      "text/plain": "<matplotlib.legend.Legend at 0x7fb0541f3a10>"
     },
     "metadata": {}
    },
    {
     "data": {
      "text/plain": "<Figure size 432x288 with 1 Axes>",
      "image/png": "[encoded data removed]"
     },
     "metadata": {
      "needs_background": "light",
      "image/png": {
       "width": 386,
       "height": 262
      }
     },
     "output_type": "display_data"
    }
   ]
  },
  {
   "cell_type": "markdown",
   "source": "Above 2cm the model is confident that the flower is Iris Virginica and below 1cm the model is confident that the flower is not Iris Virginica. However, around 1.6cm, there is an overlap and this is called a decision boundary (50% chance of being Iris Virginica)",
   "metadata": {
    "cell_id": "22e740cd60324541b796da6118aae4ac",
    "tags": [],
    "deepnote_cell_type": "markdown",
    "deepnote_cell_height": 74.78125
   }
  },
  {
   "cell_type": "markdown",
   "source": "### Softmax regression\n- in many situations we deal with classification tasks with more than 2 classes. \n- Logistic Regression can natively handle this situation\n- The idea behind the decisions made by the algorithm relies on the concept of scores. For each class k, the algorithm computes the score, given by the product between the vector of features and the coefficients for the given class k.\n- Once we have each score, we can calculate the probability of each instance x belonging to each class k, by computing the normalized exponential (check out this link https://en.wikipedia.org/wiki/Softmax_function)\n- With the probabilities in our hands, the algorithm assigns the instance x to the class k with the highest value of the vector of probabilities obtained in the last step",
   "metadata": {
    "cell_id": "de86bd48654e47bbbff9e99223c91f24",
    "tags": [],
    "deepnote_cell_type": "markdown",
    "deepnote_cell_height": 283.125
   }
  },
  {
   "cell_type": "code",
   "metadata": {
    "cell_id": "c0c808d48810484bb3f31ce559df6358",
    "tags": [],
    "deepnote_to_be_reexecuted": false,
    "source_hash": "10ed7744",
    "execution_start": 1649762518402,
    "execution_millis": 1,
    "deepnote_cell_type": "code",
    "deepnote_cell_height": 135
   },
   "source": "from sklearn.datasets import load_iris\niris = load_iris()\nX = iris['data'][:,(2,3)] #uses petal length and petal width as features\ny = iris['target']",
   "execution_count": 1,
   "outputs": []
  },
  {
   "cell_type": "code",
   "source": "from sklearn.linear_model import LogisticRegression\nsoftmax = LogisticRegression(multi_class='multinomial',solver='lbfgs',C=10)\nsoftmax.fit(X,y)",
   "metadata": {
    "cell_id": "3fe89e3f009241a393c2f5787afcd843",
    "tags": [],
    "deepnote_to_be_reexecuted": false,
    "source_hash": "34e9eec5",
    "execution_start": 1649762633233,
    "execution_millis": 50,
    "deepnote_cell_type": "code",
    "deepnote_cell_height": 154.1875,
    "deepnote_output_heights": [
     21.1875
    ]
   },
   "outputs": [
    {
     "output_type": "execute_result",
     "execution_count": 2,
     "data": {
      "text/plain": "LogisticRegression(C=10, multi_class='multinomial')"
     },
     "metadata": {}
    }
   ],
   "execution_count": 2
  },
  {
   "cell_type": "code",
   "source": "softmax.predict([[5,2]])",
   "metadata": {
    "cell_id": "7dc4c96630c14ad9b92c09fed9ae6061",
    "tags": [],
    "deepnote_to_be_reexecuted": false,
    "source_hash": "452ccd9a",
    "execution_start": 1649762645666,
    "execution_millis": 530,
    "deepnote_cell_type": "code",
    "deepnote_cell_height": 118.1875,
    "deepnote_output_heights": [
     21.1875
    ]
   },
   "outputs": [
    {
     "output_type": "execute_result",
     "execution_count": 3,
     "data": {
      "text/plain": "array([2])"
     },
     "metadata": {}
    }
   ],
   "execution_count": 3
  },
  {
   "cell_type": "code",
   "source": "softmax.predict_proba([[5,2]]) #the class = 2 is the one which the probability is maximum",
   "metadata": {
    "cell_id": "74d3bc9462104274b12d6e4b737a42cb",
    "tags": [],
    "deepnote_to_be_reexecuted": false,
    "source_hash": "a54b48ca",
    "execution_start": 1649762660169,
    "execution_millis": 22,
    "owner_user_id": "84d099f7-8557-4d5b-83f6-27e0e8a38761",
    "deepnote_cell_type": "code",
    "deepnote_cell_height": 118.1875,
    "deepnote_output_heights": [
     21.1875
    ]
   },
   "outputs": [
    {
     "output_type": "execute_result",
     "execution_count": 4,
     "data": {
      "text/plain": "array([[6.38014896e-07, 5.74929995e-02, 9.42506362e-01]])"
     },
     "metadata": {}
    }
   ],
   "execution_count": 4
  },
  {
   "cell_type": "markdown",
   "source": "<a style='text-decoration:none;line-height:16px;display:flex;color:#5B5B62;padding:10px;justify-content:end;' href='https://deepnote.com?utm_source=created-in-deepnote-cell&projectId=2b7eb737-18d4-4683-a9e5-3ea902dd423b' target=\"_blank\">\n<img alt='Created in deepnote.com' style='display:inline;max-height:16px;margin:0px;margin-right:7.5px;' src='data:image/svg+xml;base64,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' > </img>\nCreated in <span style='font-weight:600;margin-left:4px;'>Deepnote</span></a>",
   "metadata": {
    "tags": [],
    "created_in_deepnote_cell": true,
    "deepnote_cell_type": "markdown"
   }
  }
 ],
 "nbformat": 4,
 "nbformat_minor": 2,
 "metadata": {
  "orig_nbformat": 2,
  "deepnote": {
   "is_reactive": false
  },
  "deepnote_notebook_id": "1cba7dda-11ff-4349-b347-1ab042d56724",
  "deepnote_execution_queue": []
 }
}